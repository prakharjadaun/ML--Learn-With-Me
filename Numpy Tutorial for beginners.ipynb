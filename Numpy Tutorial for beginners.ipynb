{
 "cells": [
  {
   "cell_type": "code",
   "execution_count": 1,
   "id": "a37a1cba",
   "metadata": {
    "execution": {
     "iopub.execute_input": "2022-01-23T09:36:32.598293Z",
     "iopub.status.busy": "2022-01-23T09:36:32.597095Z",
     "iopub.status.idle": "2022-01-23T09:36:32.606974Z",
     "shell.execute_reply": "2022-01-23T09:36:32.607779Z",
     "shell.execute_reply.started": "2022-01-23T09:10:12.496855Z"
    },
    "papermill": {
     "duration": 0.074174,
     "end_time": "2022-01-23T09:36:32.608136",
     "exception": false,
     "start_time": "2022-01-23T09:36:32.533962",
     "status": "completed"
    },
    "tags": []
   },
   "outputs": [],
   "source": [
    "#importing numpy \n",
    "'''\n",
    "we import numpy as np because :\n",
    "a) shortening it avoids the namespace issues \n",
    "b) makes your code easier to read \n",
    "'''\n",
    "import numpy as np\n",
    "\n",
    "#Note : Do not forget to import the library or importing it wrongly will raise an error that 'np' is not defined"
   ]
  },
  {
   "cell_type": "markdown",
   "id": "6298af5b",
   "metadata": {
    "papermill": {
     "duration": 0.057079,
     "end_time": "2022-01-23T09:36:32.726849",
     "exception": false,
     "start_time": "2022-01-23T09:36:32.669770",
     "status": "completed"
    },
    "tags": []
   },
   "source": [
    "# **Why do we use numpy ?**\n",
    "\n",
    "Let us have a look on the significance of using Numpy. \n",
    "\n",
    "1. Numpy is an open source library and it can be used to perform a wide variety of mathematical operations on arrays. \n",
    "2. It adds powerful data structures to Python that guarentee efficient calculations. \n",
    "3. It also supplies an enormous library of high-level mathematical functions that operates on arrays and matrices. \n",
    "\n",
    "NumPy arrays are faster and more compact than Python lists. An array consumes less memory and is convenient to use but NumPy uses much less memory to store data and it provides a mechanism of specifying the data types. This allows the code to be optimized even further.\n",
    "\n",
    "Now without wasting any time, lets get into the implementation part ! :)"
   ]
  },
  {
   "cell_type": "markdown",
   "id": "980f091f",
   "metadata": {
    "papermill": {
     "duration": 0.056768,
     "end_time": "2022-01-23T09:36:32.840731",
     "exception": false,
     "start_time": "2022-01-23T09:36:32.783963",
     "status": "completed"
    },
    "tags": []
   },
   "source": [
    "# **1. Creating our first Numpy object** "
   ]
  },
  {
   "cell_type": "code",
   "execution_count": 2,
   "id": "579ce608",
   "metadata": {
    "execution": {
     "iopub.execute_input": "2022-01-23T09:36:32.959051Z",
     "iopub.status.busy": "2022-01-23T09:36:32.958259Z",
     "iopub.status.idle": "2022-01-23T09:36:32.966337Z",
     "shell.execute_reply": "2022-01-23T09:36:32.966972Z",
     "shell.execute_reply.started": "2022-01-23T09:10:12.504682Z"
    },
    "papermill": {
     "duration": 0.068788,
     "end_time": "2022-01-23T09:36:32.967183",
     "exception": false,
     "start_time": "2022-01-23T09:36:32.898395",
     "status": "completed"
    },
    "tags": []
   },
   "outputs": [
    {
     "name": "stdout",
     "output_type": "stream",
     "text": [
      "Array :  [1 2 3 4 5]\n",
      "Type :  <class 'numpy.ndarray'>\n"
     ]
    }
   ],
   "source": [
    "#We use 'array()' function to create the Numpy ndarray object \n",
    "\n",
    "arr = np.array([1,2,3,4,5])    #we have passed a list to the array() function\n",
    "print(\"Array : \",arr)\n",
    "print(\"Type : \",type(arr))"
   ]
  },
  {
   "cell_type": "markdown",
   "id": "b998ae37",
   "metadata": {
    "papermill": {
     "duration": 0.05795,
     "end_time": "2022-01-23T09:36:33.084501",
     "exception": false,
     "start_time": "2022-01-23T09:36:33.026551",
     "status": "completed"
    },
    "tags": []
   },
   "source": [
    "Note : array() function takes only one parameter. It can a 'list','tuple' or can be a '2d list'"
   ]
  },
  {
   "cell_type": "code",
   "execution_count": 3,
   "id": "dd42192b",
   "metadata": {
    "execution": {
     "iopub.execute_input": "2022-01-23T09:36:33.205509Z",
     "iopub.status.busy": "2022-01-23T09:36:33.204418Z",
     "iopub.status.idle": "2022-01-23T09:36:33.212685Z",
     "shell.execute_reply": "2022-01-23T09:36:33.213695Z",
     "shell.execute_reply.started": "2022-01-23T09:10:12.521672Z"
    },
    "papermill": {
     "duration": 0.071032,
     "end_time": "2022-01-23T09:36:33.214028",
     "exception": false,
     "start_time": "2022-01-23T09:36:33.142996",
     "status": "completed"
    },
    "tags": []
   },
   "outputs": [
    {
     "name": "stdout",
     "output_type": "stream",
     "text": [
      "Array :  [1 2 3 4 5]\n",
      "Type :  <class 'numpy.ndarray'>\n"
     ]
    }
   ],
   "source": [
    "#passing a tuple in the array() function \n",
    "\n",
    "arr = np.array((1,2,3,4,5))\n",
    "print(\"Array : \",arr)\n",
    "print(\"Type : \",type(arr))"
   ]
  },
  {
   "cell_type": "code",
   "execution_count": 4,
   "id": "518b59fb",
   "metadata": {
    "execution": {
     "iopub.execute_input": "2022-01-23T09:36:33.337817Z",
     "iopub.status.busy": "2022-01-23T09:36:33.337101Z",
     "iopub.status.idle": "2022-01-23T09:36:33.340044Z",
     "shell.execute_reply": "2022-01-23T09:36:33.340762Z",
     "shell.execute_reply.started": "2022-01-23T09:10:12.531301Z"
    },
    "papermill": {
     "duration": 0.067912,
     "end_time": "2022-01-23T09:36:33.341003",
     "exception": false,
     "start_time": "2022-01-23T09:36:33.273091",
     "status": "completed"
    },
    "tags": []
   },
   "outputs": [
    {
     "name": "stdout",
     "output_type": "stream",
     "text": [
      "Array : \n",
      " [[1 2 3 4]\n",
      " [5 6 7 8]]\n",
      "Type :  <class 'numpy.ndarray'>\n"
     ]
    }
   ],
   "source": [
    "#passing a 2d list to the array() function\n",
    "\n",
    "arr = np.array([[1,2,3,4],[5,6,7,8]])\n",
    "print(\"Array : \\n\",arr)\n",
    "print(\"Type : \",type(arr))"
   ]
  },
  {
   "cell_type": "markdown",
   "id": "70fcfcf8",
   "metadata": {
    "papermill": {
     "duration": 0.057423,
     "end_time": "2022-01-23T09:36:33.456874",
     "exception": false,
     "start_time": "2022-01-23T09:36:33.399451",
     "status": "completed"
    },
    "tags": []
   },
   "source": [
    "### **Determine the number of dimensions of the ndarray**"
   ]
  },
  {
   "cell_type": "code",
   "execution_count": 5,
   "id": "2adfa7d1",
   "metadata": {
    "execution": {
     "iopub.execute_input": "2022-01-23T09:36:33.582763Z",
     "iopub.status.busy": "2022-01-23T09:36:33.581783Z",
     "iopub.status.idle": "2022-01-23T09:36:33.588480Z",
     "shell.execute_reply": "2022-01-23T09:36:33.587711Z",
     "shell.execute_reply.started": "2022-01-23T09:10:12.545682Z"
    },
    "papermill": {
     "duration": 0.073489,
     "end_time": "2022-01-23T09:36:33.588663",
     "exception": false,
     "start_time": "2022-01-23T09:36:33.515174",
     "status": "completed"
    },
    "tags": []
   },
   "outputs": [
    {
     "name": "stdout",
     "output_type": "stream",
     "text": [
      "Array 1 : \n",
      " 22\n",
      "Dim :  0\n",
      "\n",
      "Array 2 : \n",
      " [1 2 3 4 5]\n",
      "Dim :  1\n",
      "\n",
      "Array 3 : \n",
      " [[1 2 3 4 5]\n",
      " [1 2 3 4 5]]\n",
      "Dim :  2\n",
      "\n",
      "Array 4 : \n",
      " [[[1 2 3 4]\n",
      "  [5 6 7 8]]]\n",
      "Dim :  3\n"
     ]
    }
   ],
   "source": [
    "#creating ndarrays of different dimensions \n",
    "\n",
    "arr1 = np.array(22)\n",
    "arr2 = np.array([1,2,3,4,5])\n",
    "arr3 = np.array([[1,2,3,4,5],[1,2,3,4,5]])\n",
    "arr4 = np.array([[[1,2,3,4],[5,6,7,8]]])\n",
    "\n",
    "#ndim : attribute provided by the numpy array \n",
    "#returning value : an integer which tells the dimensions the array have\n",
    "print(\"Array 1 : \\n\",arr1)\n",
    "print(\"Dim : \",arr1.ndim)\n",
    "print()\n",
    "print(\"Array 2 : \\n\",arr2)\n",
    "print(\"Dim : \",arr2.ndim)      \n",
    "print()\n",
    "print(\"Array 3 : \\n\",arr3)\n",
    "print(\"Dim : \",arr3.ndim)  \n",
    "print()\n",
    "print(\"Array 4 : \\n\",arr4)\n",
    "print(\"Dim : \",arr4.ndim)  "
   ]
  },
  {
   "cell_type": "code",
   "execution_count": 6,
   "id": "07a19661",
   "metadata": {
    "execution": {
     "iopub.execute_input": "2022-01-23T09:36:33.712543Z",
     "iopub.status.busy": "2022-01-23T09:36:33.711657Z",
     "iopub.status.idle": "2022-01-23T09:36:33.717040Z",
     "shell.execute_reply": "2022-01-23T09:36:33.716176Z",
     "shell.execute_reply.started": "2022-01-23T09:10:12.561213Z"
    },
    "papermill": {
     "duration": 0.069605,
     "end_time": "2022-01-23T09:36:33.717242",
     "exception": false,
     "start_time": "2022-01-23T09:36:33.647637",
     "status": "completed"
    },
    "tags": []
   },
   "outputs": [
    {
     "name": "stdout",
     "output_type": "stream",
     "text": [
      "Array :  [[[1 2 3 4 5]]]\n",
      "Dim :  3\n"
     ]
    }
   ],
   "source": [
    "#we can pass ndim attribute to the array() function\n",
    "\n",
    "arr = np.array([1,2,3,4,5],ndmin=3)\n",
    "print(\"Array : \",arr)\n",
    "print(\"Dim : \",arr.ndim)"
   ]
  },
  {
   "cell_type": "markdown",
   "id": "88d66da2",
   "metadata": {
    "papermill": {
     "duration": 0.057334,
     "end_time": "2022-01-23T09:36:33.832729",
     "exception": false,
     "start_time": "2022-01-23T09:36:33.775395",
     "status": "completed"
    },
    "tags": []
   },
   "source": [
    "# **2. Numpy Array Indexing & Slicing**\n",
    "There is two type of indexing :\n",
    "1. Positive indexing (starts from 0)\n",
    "2. Negative indexing (starts from -N where N is the number of elements in the list)"
   ]
  },
  {
   "cell_type": "markdown",
   "id": "41b94cb1",
   "metadata": {
    "papermill": {
     "duration": 0.058679,
     "end_time": "2022-01-23T09:36:33.949309",
     "exception": false,
     "start_time": "2022-01-23T09:36:33.890630",
     "status": "completed"
    },
    "tags": []
   },
   "source": [
    "### **Positive Indexing** "
   ]
  },
  {
   "cell_type": "code",
   "execution_count": 7,
   "id": "ddac6104",
   "metadata": {
    "execution": {
     "iopub.execute_input": "2022-01-23T09:36:34.074465Z",
     "iopub.status.busy": "2022-01-23T09:36:34.073699Z",
     "iopub.status.idle": "2022-01-23T09:36:34.079716Z",
     "shell.execute_reply": "2022-01-23T09:36:34.078830Z",
     "shell.execute_reply.started": "2022-01-23T09:10:12.574205Z"
    },
    "papermill": {
     "duration": 0.071755,
     "end_time": "2022-01-23T09:36:34.079914",
     "exception": false,
     "start_time": "2022-01-23T09:36:34.008159",
     "status": "completed"
    },
    "tags": []
   },
   "outputs": [
    {
     "name": "stdout",
     "output_type": "stream",
     "text": [
      "[11 12 13 14 15]\n",
      "Ele 1 :  11\n",
      "Ele 3 :  13\n",
      "Ele 1 to 3 :  [11 12 13]\n",
      "All elements :  [11 12 13 14 15]\n",
      "All elements except first 2 :  [13 14 15]\n"
     ]
    }
   ],
   "source": [
    "#creating a numpy array \n",
    "\n",
    "arr = np.array([11,12,13,14,15])\n",
    "print(arr)\n",
    "print(\"Ele 1 : \",arr[0])\n",
    "print(\"Ele 3 : \",arr[2])\n",
    "print(\"Ele 1 to 3 : \",arr[0:3])   #we have performed slicing here. If you have no idea about this, do not worry we conquer this too! :) \n",
    "print(\"All elements : \",arr[:])\n",
    "print(\"All elements except first 2 : \",arr[2:])"
   ]
  },
  {
   "cell_type": "code",
   "execution_count": 8,
   "id": "ddb6af71",
   "metadata": {
    "execution": {
     "iopub.execute_input": "2022-01-23T09:36:34.207405Z",
     "iopub.status.busy": "2022-01-23T09:36:34.201413Z",
     "iopub.status.idle": "2022-01-23T09:36:34.213183Z",
     "shell.execute_reply": "2022-01-23T09:36:34.212483Z",
     "shell.execute_reply.started": "2022-01-23T09:10:12.58888Z"
    },
    "papermill": {
     "duration": 0.074238,
     "end_time": "2022-01-23T09:36:34.213363",
     "exception": false,
     "start_time": "2022-01-23T09:36:34.139125",
     "status": "completed"
    },
    "tags": []
   },
   "outputs": [
    {
     "name": "stdout",
     "output_type": "stream",
     "text": [
      "Array :  [[ 1  2  3  4  5]\n",
      " [ 6  7  8  9 10]]\n",
      "Dim :  2\n",
      "Ele (1,1) :  7\n",
      "Ele (0,0) :  1\n",
      "Ele (1,3) :  9\n",
      "Ele in first row :  [1 2 3 4 5]\n",
      "Ele in second row :  [ 6  7  8  9 10]\n",
      "All the elements in the matrix : \n",
      " [[ 1  2  3  4  5]\n",
      " [ 6  7  8  9 10]]\n"
     ]
    }
   ],
   "source": [
    "#let's perform indexing with higher array dimension \n",
    "\n",
    "#2d Array\n",
    "arr = np.array([[1,2,3,4,5],[6,7,8,9,10]])\n",
    "print(\"Array : \",arr)\n",
    "print(\"Dim : \",arr.ndim)\n",
    "print(\"Ele (1,1) : \",arr[1][1])\n",
    "print(\"Ele (0,0) : \",arr[0][0])\n",
    "print(\"Ele (1,3) : \",arr[1][3])\n",
    "print(\"Ele in first row : \",arr[0][:])\n",
    "print(\"Ele in second row : \",arr[1][:])\n",
    "print(\"All the elements in the matrix : \\n\",arr[:][:])"
   ]
  },
  {
   "cell_type": "markdown",
   "id": "1dadeac5",
   "metadata": {
    "papermill": {
     "duration": 0.059837,
     "end_time": "2022-01-23T09:36:34.332756",
     "exception": false,
     "start_time": "2022-01-23T09:36:34.272919",
     "status": "completed"
    },
    "tags": []
   },
   "source": [
    "### **Negative Indexing** "
   ]
  },
  {
   "cell_type": "code",
   "execution_count": 9,
   "id": "bf3eb106",
   "metadata": {
    "execution": {
     "iopub.execute_input": "2022-01-23T09:36:34.460632Z",
     "iopub.status.busy": "2022-01-23T09:36:34.459778Z",
     "iopub.status.idle": "2022-01-23T09:36:34.462878Z",
     "shell.execute_reply": "2022-01-23T09:36:34.463621Z",
     "shell.execute_reply.started": "2022-01-23T09:10:12.604406Z"
    },
    "papermill": {
     "duration": 0.071062,
     "end_time": "2022-01-23T09:36:34.463871",
     "exception": false,
     "start_time": "2022-01-23T09:36:34.392809",
     "status": "completed"
    },
    "tags": []
   },
   "outputs": [
    {
     "name": "stdout",
     "output_type": "stream",
     "text": [
      "Array :  [20 21 22 23 24]\n",
      "Ele 1 :  20\n",
      "Last Ele :  24\n",
      "Last three element :  [22 23 24]\n"
     ]
    }
   ],
   "source": [
    "#let's create an array \n",
    "\n",
    "arr = np.array([20,21,22,23,24])\n",
    "print(\"Array : \",arr)\n",
    "print(\"Ele 1 : \",arr[-len(arr)])\n",
    "print(\"Last Ele : \",arr[-1])\n",
    "#if you face any confusion, do refer to the image which shows positive and negative indexing \n",
    "print(\"Last three element : \",arr[-3:])"
   ]
  },
  {
   "cell_type": "code",
   "execution_count": 10,
   "id": "46aab7f7",
   "metadata": {
    "execution": {
     "iopub.execute_input": "2022-01-23T09:36:34.587523Z",
     "iopub.status.busy": "2022-01-23T09:36:34.586849Z",
     "iopub.status.idle": "2022-01-23T09:36:34.598104Z",
     "shell.execute_reply": "2022-01-23T09:36:34.598824Z",
     "shell.execute_reply.started": "2022-01-23T09:10:12.615584Z"
    },
    "papermill": {
     "duration": 0.074574,
     "end_time": "2022-01-23T09:36:34.599026",
     "exception": false,
     "start_time": "2022-01-23T09:36:34.524452",
     "status": "completed"
    },
    "tags": []
   },
   "outputs": [
    {
     "name": "stdout",
     "output_type": "stream",
     "text": [
      "Array : \n",
      " [[12 14 34 26 16]\n",
      " [56 34 54 23 87]]\n",
      "First row :  [12 14 34 26 16]\n",
      "Ele (1,1) :  12\n",
      "Ele (1,5) :  16\n",
      "Last row :  [56 34 54 23 87]\n",
      "Ele (2,1) :  56\n",
      "Ele (2,5) :  87\n"
     ]
    }
   ],
   "source": [
    "#negative indexing with higher dimension array \n",
    "\n",
    "arr = np.array([[12,14,34,26,16],[56,34,54,23,87]])\n",
    "print(\"Array : \\n\",arr)\n",
    "print(\"First row : \",arr[-len(arr)][:])\n",
    "print(\"Ele (1,1) : \",arr[-len(arr)][-len(arr[-len(arr)])])\n",
    "print(\"Ele (1,5) : \",arr[-len(arr)][-1])\n",
    "print(\"Last row : \",arr[-1][:])\n",
    "print(\"Ele (2,1) : \",arr[-1][-len(arr[-1])])\n",
    "print(\"Ele (2,5) : \",arr[-1][-1])"
   ]
  },
  {
   "cell_type": "markdown",
   "id": "e22b3277",
   "metadata": {
    "papermill": {
     "duration": 0.060905,
     "end_time": "2022-01-23T09:36:34.722255",
     "exception": false,
     "start_time": "2022-01-23T09:36:34.661350",
     "status": "completed"
    },
    "tags": []
   },
   "source": [
    "### **Slicing in arrays**\n",
    "Slicing in python simply means retrieving elements from one given index to another given index.\n",
    "arr[start : end : step]\n",
    "\n",
    "start : starting index (if no value given, then its default value is 0)<br>\n",
    "end   : ending index (it is excluded, if no value mentioned then it iterates to the last element of the array)<br>\n",
    "step  : step refers to the incrementing value (if no value passed, then it is 1 by default) "
   ]
  },
  {
   "cell_type": "code",
   "execution_count": 11,
   "id": "e4a72609",
   "metadata": {
    "execution": {
     "iopub.execute_input": "2022-01-23T09:36:34.851466Z",
     "iopub.status.busy": "2022-01-23T09:36:34.850117Z",
     "iopub.status.idle": "2022-01-23T09:36:34.855948Z",
     "shell.execute_reply": "2022-01-23T09:36:34.856673Z",
     "shell.execute_reply.started": "2022-01-23T09:10:12.629823Z"
    },
    "papermill": {
     "duration": 0.074869,
     "end_time": "2022-01-23T09:36:34.856950",
     "exception": false,
     "start_time": "2022-01-23T09:36:34.782081",
     "status": "completed"
    },
    "tags": []
   },
   "outputs": [
    {
     "name": "stdout",
     "output_type": "stream",
     "text": [
      "[[ 1  2  3  4  5]\n",
      " [ 6  7  8  9 10]]\n",
      "[[ 1  2  3  4  5]\n",
      " [ 6  7  8  9 10]]\n",
      "[1 2 3 4 5]\n",
      "[1 2 3 4 5]\n",
      "[7 8]\n",
      "[3 4 5]\n"
     ]
    }
   ],
   "source": [
    "#let's create a 2D array\n",
    "\n",
    "arr = np.array([[1,2,3,4,5],[6,7,8,9,10]])\n",
    "print(arr) \n",
    "print(arr[:][:])  #returns the whole matrix\n",
    "print(arr[0][:])  #returns the first row\n",
    "print(arr[:][0])  #returns the first row\n",
    "print(arr[-1][1:3]) \n",
    "print(arr[0][-3:])"
   ]
  },
  {
   "cell_type": "markdown",
   "id": "cba9b0c1",
   "metadata": {
    "papermill": {
     "duration": 0.0618,
     "end_time": "2022-01-23T09:36:34.980139",
     "exception": false,
     "start_time": "2022-01-23T09:36:34.918339",
     "status": "completed"
    },
    "tags": []
   },
   "source": [
    "# **3. Data Types in Numpy**\n",
    "Numpy has some extra data types apart from the data types python provides us. <br>\n",
    "Numpy data types and the characters which represent them are : <br>\n",
    "i - integer<br>\n",
    "b - boolean<br>\n",
    "u - unsigned integer<br>\n",
    "f - float<br>\n",
    "c - complex float<br>\n",
    "m - timedelta<br>\n",
    "M - datetime<br>\n",
    "O - object<br>\n",
    "S - string<br>\n",
    "U - unicode string<br>\n",
    "V - fixed chunk of memory for other type ( void )<br>\n",
    "\n",
    "The Numpy array has a property 'dtype' which returns the data type of the numpy array.<br>\n",
    "Let's find out the different types of data type :o"
   ]
  },
  {
   "cell_type": "code",
   "execution_count": 12,
   "id": "ef4937f3",
   "metadata": {
    "execution": {
     "iopub.execute_input": "2022-01-23T09:36:35.107503Z",
     "iopub.status.busy": "2022-01-23T09:36:35.106399Z",
     "iopub.status.idle": "2022-01-23T09:36:35.112321Z",
     "shell.execute_reply": "2022-01-23T09:36:35.112799Z",
     "shell.execute_reply.started": "2022-01-23T09:10:12.640496Z"
    },
    "papermill": {
     "duration": 0.071557,
     "end_time": "2022-01-23T09:36:35.113000",
     "exception": false,
     "start_time": "2022-01-23T09:36:35.041443",
     "status": "completed"
    },
    "tags": []
   },
   "outputs": [
    {
     "name": "stdout",
     "output_type": "stream",
     "text": [
      "int64\n"
     ]
    }
   ],
   "source": [
    "#data types of different arrays \n",
    "arr = np.array([1,2,3,4,5])\n",
    "print(arr.dtype)"
   ]
  },
  {
   "cell_type": "code",
   "execution_count": 13,
   "id": "c5f4a271",
   "metadata": {
    "execution": {
     "iopub.execute_input": "2022-01-23T09:36:35.238407Z",
     "iopub.status.busy": "2022-01-23T09:36:35.237351Z",
     "iopub.status.idle": "2022-01-23T09:36:35.242646Z",
     "shell.execute_reply": "2022-01-23T09:36:35.243291Z",
     "shell.execute_reply.started": "2022-01-23T09:10:12.651885Z"
    },
    "papermill": {
     "duration": 0.070084,
     "end_time": "2022-01-23T09:36:35.243490",
     "exception": false,
     "start_time": "2022-01-23T09:36:35.173406",
     "status": "completed"
    },
    "tags": []
   },
   "outputs": [
    {
     "name": "stdout",
     "output_type": "stream",
     "text": [
      "<U5\n"
     ]
    }
   ],
   "source": [
    "arr = np.array(['hello','peter'])\n",
    "print(arr.dtype)"
   ]
  },
  {
   "cell_type": "code",
   "execution_count": 14,
   "id": "5d80e7be",
   "metadata": {
    "execution": {
     "iopub.execute_input": "2022-01-23T09:36:35.369812Z",
     "iopub.status.busy": "2022-01-23T09:36:35.368799Z",
     "iopub.status.idle": "2022-01-23T09:36:35.375238Z",
     "shell.execute_reply": "2022-01-23T09:36:35.376004Z",
     "shell.execute_reply.started": "2022-01-23T09:10:12.665102Z"
    },
    "papermill": {
     "duration": 0.07215,
     "end_time": "2022-01-23T09:36:35.376289",
     "exception": false,
     "start_time": "2022-01-23T09:36:35.304139",
     "status": "completed"
    },
    "tags": []
   },
   "outputs": [
    {
     "name": "stdout",
     "output_type": "stream",
     "text": [
      "float64\n"
     ]
    }
   ],
   "source": [
    "arr = np.array([1.1,1.2,1.3,1.4,1.5])\n",
    "print(arr.dtype)"
   ]
  },
  {
   "cell_type": "code",
   "execution_count": 15,
   "id": "b7c57fa0",
   "metadata": {
    "execution": {
     "iopub.execute_input": "2022-01-23T09:36:35.501894Z",
     "iopub.status.busy": "2022-01-23T09:36:35.501257Z",
     "iopub.status.idle": "2022-01-23T09:36:35.505648Z",
     "shell.execute_reply": "2022-01-23T09:36:35.506277Z",
     "shell.execute_reply.started": "2022-01-23T09:10:12.755831Z"
    },
    "papermill": {
     "duration": 0.068773,
     "end_time": "2022-01-23T09:36:35.506455",
     "exception": false,
     "start_time": "2022-01-23T09:36:35.437682",
     "status": "completed"
    },
    "tags": []
   },
   "outputs": [
    {
     "name": "stdout",
     "output_type": "stream",
     "text": [
      "bool\n"
     ]
    }
   ],
   "source": [
    "arr = np.array([True,False,True])\n",
    "print(arr.dtype)"
   ]
  },
  {
   "cell_type": "code",
   "execution_count": 16,
   "id": "55a4021f",
   "metadata": {
    "execution": {
     "iopub.execute_input": "2022-01-23T09:36:35.634691Z",
     "iopub.status.busy": "2022-01-23T09:36:35.633887Z",
     "iopub.status.idle": "2022-01-23T09:36:35.636734Z",
     "shell.execute_reply": "2022-01-23T09:36:35.637268Z",
     "shell.execute_reply.started": "2022-01-23T09:10:12.76465Z"
    },
    "papermill": {
     "duration": 0.070445,
     "end_time": "2022-01-23T09:36:35.637466",
     "exception": false,
     "start_time": "2022-01-23T09:36:35.567021",
     "status": "completed"
    },
    "tags": []
   },
   "outputs": [
    {
     "name": "stdout",
     "output_type": "stream",
     "text": [
      "<U21\n"
     ]
    }
   ],
   "source": [
    "#What if we have different data type values in a single list ? \n",
    "#What would be the dtype of our array object then ?\n",
    "#Let's dig out !!!\n",
    "\n",
    "arr = np.array([1,'hey!',True,1.1])\n",
    "print(arr.dtype)"
   ]
  },
  {
   "cell_type": "markdown",
   "id": "dbe14233",
   "metadata": {
    "papermill": {
     "duration": 0.061939,
     "end_time": "2022-01-23T09:36:35.760916",
     "exception": false,
     "start_time": "2022-01-23T09:36:35.698977",
     "status": "completed"
    },
    "tags": []
   },
   "source": [
    "Note : dtype is different from data type<br>\n",
    "\n",
    "It gives us information about: <br>\n",
    "\n",
    "a) Type of the data (integer, float, Python object, etc.)<br>\n",
    "b) Size of the data (number of bytes)<br>\n",
    "c) The byte order of the data (little-endian or big-endian)<br>\n",
    "d) If the data type is a sub-array, what is its shape and data type?<br>"
   ]
  },
  {
   "cell_type": "code",
   "execution_count": 17,
   "id": "84ebdee0",
   "metadata": {
    "execution": {
     "iopub.execute_input": "2022-01-23T09:36:35.891438Z",
     "iopub.status.busy": "2022-01-23T09:36:35.890689Z",
     "iopub.status.idle": "2022-01-23T09:36:35.893697Z",
     "shell.execute_reply": "2022-01-23T09:36:35.894234Z",
     "shell.execute_reply.started": "2022-01-23T09:10:12.781125Z"
    },
    "papermill": {
     "duration": 0.072102,
     "end_time": "2022-01-23T09:36:35.894435",
     "exception": false,
     "start_time": "2022-01-23T09:36:35.822333",
     "status": "completed"
    },
    "tags": []
   },
   "outputs": [
    {
     "name": "stdout",
     "output_type": "stream",
     "text": [
      "Array :  [b'1' b'2' b'3' b'4' b'5']\n",
      "dtype :  |S1\n"
     ]
    }
   ],
   "source": [
    "#Numpy allows us to create array with a defined data type \n",
    "\n",
    "arr = np.array([1,2,3,4,5],dtype='S')\n",
    "print(\"Array : \",arr)\n",
    "print(\"dtype : \",arr.dtype)"
   ]
  },
  {
   "cell_type": "code",
   "execution_count": 18,
   "id": "ee330a97",
   "metadata": {
    "execution": {
     "iopub.execute_input": "2022-01-23T09:36:36.023532Z",
     "iopub.status.busy": "2022-01-23T09:36:36.022804Z",
     "iopub.status.idle": "2022-01-23T09:36:36.028858Z",
     "shell.execute_reply": "2022-01-23T09:36:36.028120Z",
     "shell.execute_reply.started": "2022-01-23T09:10:12.793386Z"
    },
    "papermill": {
     "duration": 0.071969,
     "end_time": "2022-01-23T09:36:36.029064",
     "exception": false,
     "start_time": "2022-01-23T09:36:35.957095",
     "status": "completed"
    },
    "tags": []
   },
   "outputs": [
    {
     "name": "stdout",
     "output_type": "stream",
     "text": [
      "[1 2 3 4 5]\n",
      "int64\n"
     ]
    }
   ],
   "source": [
    "#We can also define the size of the array with these dtypes : i, u, f, S and U\n",
    "\n",
    "arr = np.array([1,2,3,4,5],dtype='i8')\n",
    "print(arr)\n",
    "print(arr.dtype)  "
   ]
  },
  {
   "cell_type": "code",
   "execution_count": 19,
   "id": "386036c3",
   "metadata": {
    "execution": {
     "iopub.execute_input": "2022-01-23T09:36:36.160932Z",
     "iopub.status.busy": "2022-01-23T09:36:36.160023Z",
     "iopub.status.idle": "2022-01-23T09:36:36.162583Z",
     "shell.execute_reply": "2022-01-23T09:36:36.163042Z",
     "shell.execute_reply.started": "2022-01-23T09:10:12.807081Z"
    },
    "papermill": {
     "duration": 0.071053,
     "end_time": "2022-01-23T09:36:36.163258",
     "exception": false,
     "start_time": "2022-01-23T09:36:36.092205",
     "status": "completed"
    },
    "tags": []
   },
   "outputs": [],
   "source": [
    "#If the elements of the array cannot be converted to the defined dtype, then it raises the 'ValueError'\n",
    "\n",
    "# arr = np.array(['hello','world'],dtype='i2')  #raises 'ValueError'\n",
    "# print(arr)"
   ]
  },
  {
   "cell_type": "code",
   "execution_count": 20,
   "id": "1604b131",
   "metadata": {
    "execution": {
     "iopub.execute_input": "2022-01-23T09:36:36.291244Z",
     "iopub.status.busy": "2022-01-23T09:36:36.290289Z",
     "iopub.status.idle": "2022-01-23T09:36:36.298190Z",
     "shell.execute_reply": "2022-01-23T09:36:36.299122Z",
     "shell.execute_reply.started": "2022-01-23T09:10:12.817711Z"
    },
    "papermill": {
     "duration": 0.074312,
     "end_time": "2022-01-23T09:36:36.299448",
     "exception": false,
     "start_time": "2022-01-23T09:36:36.225136",
     "status": "completed"
    },
    "tags": []
   },
   "outputs": [
    {
     "name": "stdout",
     "output_type": "stream",
     "text": [
      "[1.1 1.2 1.3 1.4 1.5]\n",
      "float64\n",
      "After conversion : \n",
      "\n",
      "[1 1 1 1 1]\n",
      "int64\n"
     ]
    }
   ],
   "source": [
    "#converting dtype of the arrays \n",
    "\n",
    "arr = np.array([1.1,1.2,1.3,1.4,1.5])\n",
    "print(arr)\n",
    "print(arr.dtype)\n",
    "#converting dtype to int \n",
    "arr = arr.astype(np.int64)   #we can even specify the size of the integer with the help of numpy\n",
    "print(\"After conversion : \\n\")\n",
    "print(arr)\n",
    "print(arr.dtype)"
   ]
  },
  {
   "cell_type": "code",
   "execution_count": 21,
   "id": "e8e32a93",
   "metadata": {
    "execution": {
     "iopub.execute_input": "2022-01-23T09:36:36.432321Z",
     "iopub.status.busy": "2022-01-23T09:36:36.431641Z",
     "iopub.status.idle": "2022-01-23T09:36:36.439101Z",
     "shell.execute_reply": "2022-01-23T09:36:36.438540Z",
     "shell.execute_reply.started": "2022-01-23T09:10:12.833157Z"
    },
    "papermill": {
     "duration": 0.073347,
     "end_time": "2022-01-23T09:36:36.439281",
     "exception": false,
     "start_time": "2022-01-23T09:36:36.365934",
     "status": "completed"
    },
    "tags": []
   },
   "outputs": [
    {
     "name": "stdout",
     "output_type": "stream",
     "text": [
      "[1 0 3]\n",
      "int64\n",
      "After conversion : \n",
      "[ True False  True]\n",
      "bool\n"
     ]
    }
   ],
   "source": [
    "arr = np.array([1, 0, 3])\n",
    "print(arr)\n",
    "print(arr.dtype)\n",
    "arr = arr.astype(bool)\n",
    "print(\"After conversion : \")\n",
    "print(arr)\n",
    "print(arr.dtype)"
   ]
  },
  {
   "cell_type": "markdown",
   "id": "8852cd7e",
   "metadata": {
    "papermill": {
     "duration": 0.063036,
     "end_time": "2022-01-23T09:36:36.566319",
     "exception": false,
     "start_time": "2022-01-23T09:36:36.503283",
     "status": "completed"
    },
    "tags": []
   },
   "source": [
    "# **4. Copy v/s View in Numpy**\n",
    "Copy() and the view() function both creates a copy of the array. <br>\n",
    "But the copy OWNS the data and any changes made to the copy will not affect original array, and any changes made to the original array will not affect the copy.<br>\n",
    "\n",
    "While the view DOES NOT OWN the data and any changes made to the view will affect the original array"
   ]
  },
  {
   "cell_type": "code",
   "execution_count": 22,
   "id": "2f9d650c",
   "metadata": {
    "execution": {
     "iopub.execute_input": "2022-01-23T09:36:36.697374Z",
     "iopub.status.busy": "2022-01-23T09:36:36.696675Z",
     "iopub.status.idle": "2022-01-23T09:36:36.702593Z",
     "shell.execute_reply": "2022-01-23T09:36:36.703154Z",
     "shell.execute_reply.started": "2022-01-23T09:10:12.849606Z"
    },
    "papermill": {
     "duration": 0.073848,
     "end_time": "2022-01-23T09:36:36.703390",
     "exception": false,
     "start_time": "2022-01-23T09:36:36.629542",
     "status": "completed"
    },
    "tags": []
   },
   "outputs": [
    {
     "name": "stdout",
     "output_type": "stream",
     "text": [
      "Newly created array :  ['hi' 'there']\n",
      "Original array :  ['hey' 'there']\n"
     ]
    }
   ],
   "source": [
    "#copy() function \n",
    "\n",
    "arr = np.array(['hey','there'])\n",
    "\n",
    "#creating a new array with copy() function \n",
    "\n",
    "new = arr.copy()\n",
    "#let's alter our new array\n",
    "new[0]='hi'\n",
    "print(\"Newly created array : \",new)\n",
    "print(\"Original array : \",arr)\n",
    "\n",
    "#We can clearly see that the changes made in the newly created array were not reflected in the original array"
   ]
  },
  {
   "cell_type": "code",
   "execution_count": 23,
   "id": "b5d53166",
   "metadata": {
    "execution": {
     "iopub.execute_input": "2022-01-23T09:36:36.835240Z",
     "iopub.status.busy": "2022-01-23T09:36:36.834583Z",
     "iopub.status.idle": "2022-01-23T09:36:36.840950Z",
     "shell.execute_reply": "2022-01-23T09:36:36.841591Z",
     "shell.execute_reply.started": "2022-01-23T09:10:12.860203Z"
    },
    "papermill": {
     "duration": 0.073845,
     "end_time": "2022-01-23T09:36:36.841807",
     "exception": false,
     "start_time": "2022-01-23T09:36:36.767962",
     "status": "completed"
    },
    "tags": []
   },
   "outputs": [
    {
     "name": "stdout",
     "output_type": "stream",
     "text": [
      "Newly created array :  ['hi' 'there']\n",
      "Original array :  ['hi' 'there']\n"
     ]
    }
   ],
   "source": [
    "#view() function \n",
    "\n",
    "arr = np.array(['hey','there'])\n",
    "\n",
    "#creating a new array with view() function \n",
    "\n",
    "new = arr.view()\n",
    "#let's alter our new array\n",
    "new[0]='hi'\n",
    "print(\"Newly created array : \",new)\n",
    "print(\"Original array : \",arr)\n",
    "#The changes made in the newly created array were reflected in the original array"
   ]
  },
  {
   "cell_type": "markdown",
   "id": "1fc9d3b8",
   "metadata": {
    "papermill": {
     "duration": 0.063355,
     "end_time": "2022-01-23T09:36:36.968897",
     "exception": false,
     "start_time": "2022-01-23T09:36:36.905542",
     "status": "completed"
    },
    "tags": []
   },
   "source": [
    "# **5. Reshaping of an array in Numpy**\n",
    "Firstly, let us understand what does 'shape' refers to.<br>\n",
    "Shape refers to the number of elements in each dimension<br>\n",
    "\n",
    "Numpy provides 'shape' attribute that returns a tuple with each index having number of corresponding elements. \n",
    "\n",
    "Note :- Do not get confuse between the shape('shape') and the dimension('ndim')."
   ]
  },
  {
   "cell_type": "code",
   "execution_count": 24,
   "id": "14cd3025",
   "metadata": {
    "execution": {
     "iopub.execute_input": "2022-01-23T09:36:37.103645Z",
     "iopub.status.busy": "2022-01-23T09:36:37.102934Z",
     "iopub.status.idle": "2022-01-23T09:36:37.109281Z",
     "shell.execute_reply": "2022-01-23T09:36:37.109887Z",
     "shell.execute_reply.started": "2022-01-23T09:10:12.873409Z"
    },
    "papermill": {
     "duration": 0.07502,
     "end_time": "2022-01-23T09:36:37.110127",
     "exception": false,
     "start_time": "2022-01-23T09:36:37.035107",
     "status": "completed"
    },
    "tags": []
   },
   "outputs": [
    {
     "name": "stdout",
     "output_type": "stream",
     "text": [
      "(2, 5)\n",
      "2\n"
     ]
    }
   ],
   "source": [
    "#getting the shape of the numpy arrays\n",
    "\n",
    "arr = np.array([[1,2,3,4,5],[6,7,8,9,10]])\n",
    "print(arr.shape)\n",
    "#whereas ndim gives the dimension\n",
    "print(arr.ndim)"
   ]
  },
  {
   "cell_type": "markdown",
   "id": "ebbf4be3",
   "metadata": {
    "papermill": {
     "duration": 0.063479,
     "end_time": "2022-01-23T09:36:37.237421",
     "exception": false,
     "start_time": "2022-01-23T09:36:37.173942",
     "status": "completed"
    },
    "tags": []
   },
   "source": [
    "Reshaping : It means to change the shape of the array. By reshaping, we can add or remove dimensions or change the number of elements in each dimension. "
   ]
  },
  {
   "cell_type": "code",
   "execution_count": 25,
   "id": "2a170872",
   "metadata": {
    "execution": {
     "iopub.execute_input": "2022-01-23T09:36:37.369887Z",
     "iopub.status.busy": "2022-01-23T09:36:37.369148Z",
     "iopub.status.idle": "2022-01-23T09:36:37.374814Z",
     "shell.execute_reply": "2022-01-23T09:36:37.375543Z",
     "shell.execute_reply.started": "2022-01-23T09:10:12.884575Z"
    },
    "papermill": {
     "duration": 0.074205,
     "end_time": "2022-01-23T09:36:37.375810",
     "exception": false,
     "start_time": "2022-01-23T09:36:37.301605",
     "status": "completed"
    },
    "tags": []
   },
   "outputs": [
    {
     "name": "stdout",
     "output_type": "stream",
     "text": [
      "[[ 1  2  3  4  5]\n",
      " [ 6  7  8  9 10]]\n"
     ]
    }
   ],
   "source": [
    "#converting 1D array to 2D\n",
    "\n",
    "arr = np.array([1,2,3,4,5,6,7,8,9,10])\n",
    "arr = arr.reshape(2,5)\n",
    "print(arr)"
   ]
  },
  {
   "cell_type": "code",
   "execution_count": 26,
   "id": "d7dc5be1",
   "metadata": {
    "execution": {
     "iopub.execute_input": "2022-01-23T09:36:37.511336Z",
     "iopub.status.busy": "2022-01-23T09:36:37.510632Z",
     "iopub.status.idle": "2022-01-23T09:36:37.515400Z",
     "shell.execute_reply": "2022-01-23T09:36:37.515863Z",
     "shell.execute_reply.started": "2022-01-23T09:10:12.897645Z"
    },
    "papermill": {
     "duration": 0.073974,
     "end_time": "2022-01-23T09:36:37.516062",
     "exception": false,
     "start_time": "2022-01-23T09:36:37.442088",
     "status": "completed"
    },
    "tags": []
   },
   "outputs": [
    {
     "name": "stdout",
     "output_type": "stream",
     "text": [
      "[[[ 1  2]\n",
      "  [ 3  4]\n",
      "  [ 5  6]]\n",
      "\n",
      " [[ 7  8]\n",
      "  [ 9 10]\n",
      "  [11 12]]]\n"
     ]
    }
   ],
   "source": [
    "#converting 1D array to 3D array \n",
    "\n",
    "arr = np.array([1,2,3,4,5,6,7,8,9,10,11,12])\n",
    "arr = arr.reshape(2,3,2)\n",
    "print(arr)"
   ]
  },
  {
   "cell_type": "markdown",
   "id": "cd9dcd69",
   "metadata": {
    "papermill": {
     "duration": 0.066894,
     "end_time": "2022-01-23T09:36:37.647547",
     "exception": false,
     "start_time": "2022-01-23T09:36:37.580653",
     "status": "completed"
    },
    "tags": []
   },
   "source": [
    "### **Can we convert array to any shape ?**\n",
    "We can convert array to any shape as long as the elements required for reshaping are equal in both shapes. <br>\n",
    "\n",
    "We can reshape 10 elements 1D array into 5 elements in 2 rows in 2D arrays but we cannot reshape it into 5 elements in 3 rows.  "
   ]
  },
  {
   "cell_type": "code",
   "execution_count": 27,
   "id": "2de0ee36",
   "metadata": {
    "execution": {
     "iopub.execute_input": "2022-01-23T09:36:37.780088Z",
     "iopub.status.busy": "2022-01-23T09:36:37.779479Z",
     "iopub.status.idle": "2022-01-23T09:36:37.785567Z",
     "shell.execute_reply": "2022-01-23T09:36:37.784671Z",
     "shell.execute_reply.started": "2022-01-23T09:10:12.910905Z"
    },
    "papermill": {
     "duration": 0.073407,
     "end_time": "2022-01-23T09:36:37.785777",
     "exception": false,
     "start_time": "2022-01-23T09:36:37.712370",
     "status": "completed"
    },
    "tags": []
   },
   "outputs": [
    {
     "name": "stdout",
     "output_type": "stream",
     "text": [
      "[ 1  2  3  4  5  6  7  8  9 10 11 12]\n"
     ]
    }
   ],
   "source": [
    "#what does reshape() returns ? Does it returns a copy() or a view ? \n",
    "#let's find out!\n",
    "\n",
    "print(arr.reshape(1,12).base)\n",
    "\n",
    "#As it returns the original array, reshape() returns like view() function"
   ]
  },
  {
   "cell_type": "code",
   "execution_count": 28,
   "id": "3da8a849",
   "metadata": {
    "execution": {
     "iopub.execute_input": "2022-01-23T09:36:37.924053Z",
     "iopub.status.busy": "2022-01-23T09:36:37.923368Z",
     "iopub.status.idle": "2022-01-23T09:36:37.926595Z",
     "shell.execute_reply": "2022-01-23T09:36:37.927313Z",
     "shell.execute_reply.started": "2022-01-23T09:10:12.924754Z"
    },
    "papermill": {
     "duration": 0.075798,
     "end_time": "2022-01-23T09:36:37.927569",
     "exception": false,
     "start_time": "2022-01-23T09:36:37.851771",
     "status": "completed"
    },
    "tags": []
   },
   "outputs": [
    {
     "name": "stdout",
     "output_type": "stream",
     "text": [
      "[[ 1  2  3  4  5]\n",
      " [ 6  7  8  9 10]]\n",
      "[ 1  2  3  4  5  6  7  8  9 10]\n"
     ]
    }
   ],
   "source": [
    "#Flattening the array : Converting multidimensional array in single dimensional array \n",
    "'''\n",
    "There are two ways to do it : \n",
    "a) using reshape() -> pass -1 to the reshape function \n",
    "b) use flatten() -> call the flatten function of the numpy array object\n",
    "'''\n",
    "\n",
    "arr = np.array([[1,2,3,4,5],[6,7,8,9,10]])\n",
    "print(arr)\n",
    "#converting into 1D array \n",
    "arr = arr.reshape(-1)\n",
    "print(arr)\n"
   ]
  },
  {
   "cell_type": "code",
   "execution_count": 29,
   "id": "8323b6f6",
   "metadata": {
    "execution": {
     "iopub.execute_input": "2022-01-23T09:36:38.064723Z",
     "iopub.status.busy": "2022-01-23T09:36:38.063994Z",
     "iopub.status.idle": "2022-01-23T09:36:38.070613Z",
     "shell.execute_reply": "2022-01-23T09:36:38.071395Z",
     "shell.execute_reply.started": "2022-01-23T09:10:12.934381Z"
    },
    "papermill": {
     "duration": 0.07749,
     "end_time": "2022-01-23T09:36:38.071663",
     "exception": false,
     "start_time": "2022-01-23T09:36:37.994173",
     "status": "completed"
    },
    "tags": []
   },
   "outputs": [
    {
     "name": "stdout",
     "output_type": "stream",
     "text": [
      "[[ 1  2  3  4  5]\n",
      " [ 6  7  8  9 10]]\n",
      "After using flatten() function : \n",
      "[ 1  2  3  4  5  6  7  8  9 10]\n"
     ]
    }
   ],
   "source": [
    "#using flatten() function \n",
    "\n",
    "arr = np.array([[1,2,3,4,5],[6,7,8,9,10]])\n",
    "print(arr)\n",
    "#converting into 1D array \n",
    "arr = arr.flatten()\n",
    "print(\"After using flatten() function : \")\n",
    "print(arr)"
   ]
  },
  {
   "cell_type": "markdown",
   "id": "8fb267c9",
   "metadata": {
    "papermill": {
     "duration": 0.065785,
     "end_time": "2022-01-23T09:36:38.204413",
     "exception": false,
     "start_time": "2022-01-23T09:36:38.138628",
     "status": "completed"
    },
    "tags": []
   },
   "source": [
    "# **6. Iterating on Numpy Array**\n",
    "We can ieterate through the numpy arrays in three ways :<br> \n",
    "a) Using for loop <br>\n",
    "b) Using nditer() <br>\n",
    "c) Using ndenumerate()"
   ]
  },
  {
   "cell_type": "markdown",
   "id": "ed8e0174",
   "metadata": {
    "papermill": {
     "duration": 0.066628,
     "end_time": "2022-01-23T09:36:38.336800",
     "exception": false,
     "start_time": "2022-01-23T09:36:38.270172",
     "status": "completed"
    },
    "tags": []
   },
   "source": [
    "### **Using for loop**"
   ]
  },
  {
   "cell_type": "code",
   "execution_count": 30,
   "id": "3a128a87",
   "metadata": {
    "execution": {
     "iopub.execute_input": "2022-01-23T09:36:38.479583Z",
     "iopub.status.busy": "2022-01-23T09:36:38.478554Z",
     "iopub.status.idle": "2022-01-23T09:36:38.485984Z",
     "shell.execute_reply": "2022-01-23T09:36:38.485463Z",
     "shell.execute_reply.started": "2022-01-23T09:10:12.951116Z"
    },
    "papermill": {
     "duration": 0.083257,
     "end_time": "2022-01-23T09:36:38.486144",
     "exception": false,
     "start_time": "2022-01-23T09:36:38.402887",
     "status": "completed"
    },
    "tags": []
   },
   "outputs": [
    {
     "name": "stdout",
     "output_type": "stream",
     "text": [
      "1\n",
      "2\n",
      "3\n",
      "4\n",
      "5\n",
      "6\n"
     ]
    }
   ],
   "source": [
    "#iterating 1D array\n",
    "arr = np.array([1,2,3,4,5,6])\n",
    "\n",
    "for x in arr:\n",
    "    print(x)"
   ]
  },
  {
   "cell_type": "code",
   "execution_count": 31,
   "id": "3ddeacb9",
   "metadata": {
    "execution": {
     "iopub.execute_input": "2022-01-23T09:36:38.623049Z",
     "iopub.status.busy": "2022-01-23T09:36:38.622381Z",
     "iopub.status.idle": "2022-01-23T09:36:38.628359Z",
     "shell.execute_reply": "2022-01-23T09:36:38.629023Z",
     "shell.execute_reply.started": "2022-01-23T09:10:12.96199Z"
    },
    "papermill": {
     "duration": 0.077095,
     "end_time": "2022-01-23T09:36:38.629260",
     "exception": false,
     "start_time": "2022-01-23T09:36:38.552165",
     "status": "completed"
    },
    "tags": []
   },
   "outputs": [
    {
     "name": "stdout",
     "output_type": "stream",
     "text": [
      "[1 2 3 4 5]\n",
      "[ 6  7  8  9 10]\n"
     ]
    }
   ],
   "source": [
    "#iterating 2D array \n",
    "arr = np.array([[1,2,3,4,5],[6,7,8,9,10]])\n",
    "\n",
    "for x in arr:\n",
    "    print(x)"
   ]
  },
  {
   "cell_type": "code",
   "execution_count": 32,
   "id": "0fc82c33",
   "metadata": {
    "execution": {
     "iopub.execute_input": "2022-01-23T09:36:38.774439Z",
     "iopub.status.busy": "2022-01-23T09:36:38.772660Z",
     "iopub.status.idle": "2022-01-23T09:36:38.779477Z",
     "shell.execute_reply": "2022-01-23T09:36:38.780002Z",
     "shell.execute_reply.started": "2022-01-23T09:10:12.971466Z"
    },
    "papermill": {
     "duration": 0.079086,
     "end_time": "2022-01-23T09:36:38.780195",
     "exception": false,
     "start_time": "2022-01-23T09:36:38.701109",
     "status": "completed"
    },
    "tags": []
   },
   "outputs": [
    {
     "name": "stdout",
     "output_type": "stream",
     "text": [
      "1\n",
      "2\n",
      "3\n",
      "4\n",
      "5\n",
      "6\n",
      "7\n",
      "8\n",
      "9\n",
      "10\n"
     ]
    }
   ],
   "source": [
    "#iterating each element of the 2D array \n",
    "for x in arr:\n",
    "    for y in x:\n",
    "        print(y)"
   ]
  },
  {
   "cell_type": "code",
   "execution_count": 33,
   "id": "e6dd6191",
   "metadata": {
    "execution": {
     "iopub.execute_input": "2022-01-23T09:36:38.916596Z",
     "iopub.status.busy": "2022-01-23T09:36:38.915906Z",
     "iopub.status.idle": "2022-01-23T09:36:38.922495Z",
     "shell.execute_reply": "2022-01-23T09:36:38.923054Z",
     "shell.execute_reply.started": "2022-01-23T09:10:12.986491Z"
    },
    "papermill": {
     "duration": 0.076578,
     "end_time": "2022-01-23T09:36:38.923257",
     "exception": false,
     "start_time": "2022-01-23T09:36:38.846679",
     "status": "completed"
    },
    "tags": []
   },
   "outputs": [
    {
     "name": "stdout",
     "output_type": "stream",
     "text": [
      "[[ 1  2  3  4  5]\n",
      " [ 6  7  8  9 10]]\n"
     ]
    }
   ],
   "source": [
    "#iterating a 3D array \n",
    "arr = np.array([[[1,2,3,4,5],[6,7,8,9,10]]])\n",
    "\n",
    "for x in arr :\n",
    "    print(x)"
   ]
  },
  {
   "cell_type": "code",
   "execution_count": 34,
   "id": "6ae11656",
   "metadata": {
    "execution": {
     "iopub.execute_input": "2022-01-23T09:36:39.064470Z",
     "iopub.status.busy": "2022-01-23T09:36:39.063803Z",
     "iopub.status.idle": "2022-01-23T09:36:39.071342Z",
     "shell.execute_reply": "2022-01-23T09:36:39.070628Z",
     "shell.execute_reply.started": "2022-01-23T09:10:12.996694Z"
    },
    "papermill": {
     "duration": 0.079455,
     "end_time": "2022-01-23T09:36:39.071492",
     "exception": false,
     "start_time": "2022-01-23T09:36:38.992037",
     "status": "completed"
    },
    "tags": []
   },
   "outputs": [
    {
     "name": "stdout",
     "output_type": "stream",
     "text": [
      "1\n",
      "2\n",
      "3\n",
      "4\n",
      "5\n",
      "6\n",
      "7\n",
      "8\n",
      "9\n",
      "10\n"
     ]
    }
   ],
   "source": [
    "#ietarting each element of the 3D array \n",
    "\n",
    "for x in arr :\n",
    "    for y in x:\n",
    "        for z in y:\n",
    "            print(z)"
   ]
  },
  {
   "cell_type": "markdown",
   "id": "52796214",
   "metadata": {
    "papermill": {
     "duration": 0.067573,
     "end_time": "2022-01-23T09:36:39.206193",
     "exception": false,
     "start_time": "2022-01-23T09:36:39.138620",
     "status": "completed"
    },
    "tags": []
   },
   "source": [
    "### **Using nditer()**\n",
    "We have to use n loops for iterating each element of a nD array but if we use nditer() function, our task becomes easier.<br>\n",
    "\n",
    "Let's see how!"
   ]
  },
  {
   "cell_type": "code",
   "execution_count": 35,
   "id": "7a5531b7",
   "metadata": {
    "execution": {
     "iopub.execute_input": "2022-01-23T09:36:39.347251Z",
     "iopub.status.busy": "2022-01-23T09:36:39.346339Z",
     "iopub.status.idle": "2022-01-23T09:36:39.350645Z",
     "shell.execute_reply": "2022-01-23T09:36:39.349992Z",
     "shell.execute_reply.started": "2022-01-23T09:10:13.008415Z"
    },
    "papermill": {
     "duration": 0.077644,
     "end_time": "2022-01-23T09:36:39.350785",
     "exception": false,
     "start_time": "2022-01-23T09:36:39.273141",
     "status": "completed"
    },
    "tags": []
   },
   "outputs": [
    {
     "name": "stdout",
     "output_type": "stream",
     "text": [
      "1\n",
      "2\n",
      "3\n",
      "4\n",
      "5\n",
      "6\n",
      "7\n",
      "8\n"
     ]
    }
   ],
   "source": [
    "arr = np.array([[[1, 2], [3, 4]], [[5, 6], [7, 8]]])\n",
    "\n",
    "for x in np.nditer(arr):\n",
    "  print(x)"
   ]
  },
  {
   "cell_type": "code",
   "execution_count": 36,
   "id": "dcb2ffc8",
   "metadata": {
    "execution": {
     "iopub.execute_input": "2022-01-23T09:36:39.492716Z",
     "iopub.status.busy": "2022-01-23T09:36:39.491961Z",
     "iopub.status.idle": "2022-01-23T09:36:39.496447Z",
     "shell.execute_reply": "2022-01-23T09:36:39.496916Z",
     "shell.execute_reply.started": "2022-01-23T09:10:13.019641Z"
    },
    "papermill": {
     "duration": 0.078341,
     "end_time": "2022-01-23T09:36:39.497110",
     "exception": false,
     "start_time": "2022-01-23T09:36:39.418769",
     "status": "completed"
    },
    "tags": []
   },
   "outputs": [
    {
     "name": "stdout",
     "output_type": "stream",
     "text": [
      "1\n",
      "2\n",
      "5\n",
      "6\n"
     ]
    }
   ],
   "source": [
    "#by using nditer() function we can even iterate with different step size\n",
    "\n",
    "for x in np.nditer(arr[:, ::2]):\n",
    "  print(x)"
   ]
  },
  {
   "cell_type": "markdown",
   "id": "542bc47f",
   "metadata": {
    "papermill": {
     "duration": 0.06856,
     "end_time": "2022-01-23T09:36:39.635108",
     "exception": false,
     "start_time": "2022-01-23T09:36:39.566548",
     "status": "completed"
    },
    "tags": []
   },
   "source": [
    "### **Using ndenumerate()**\n",
    "Enumeration means mentioning sequence number of somethings one by one.<br>\n",
    "\n",
    "In some cases we might need the index of the element too, so in those cases you can use this ndenumerate() function. "
   ]
  },
  {
   "cell_type": "code",
   "execution_count": 37,
   "id": "ac3d5aa7",
   "metadata": {
    "execution": {
     "iopub.execute_input": "2022-01-23T09:36:39.776681Z",
     "iopub.status.busy": "2022-01-23T09:36:39.776033Z",
     "iopub.status.idle": "2022-01-23T09:36:39.782500Z",
     "shell.execute_reply": "2022-01-23T09:36:39.783112Z",
     "shell.execute_reply.started": "2022-01-23T09:10:13.032376Z"
    },
    "papermill": {
     "duration": 0.07873,
     "end_time": "2022-01-23T09:36:39.783341",
     "exception": false,
     "start_time": "2022-01-23T09:36:39.704611",
     "status": "completed"
    },
    "tags": []
   },
   "outputs": [
    {
     "name": "stdout",
     "output_type": "stream",
     "text": [
      "(0,) 1\n",
      "(1,) 2\n",
      "(2,) 3\n",
      "(3,) 4\n",
      "(4,) 5\n"
     ]
    }
   ],
   "source": [
    "arr = np.array([1, 2, 3, 4, 5])\n",
    "\n",
    "for idx, x in np.ndenumerate(arr):\n",
    "  print(idx, x)"
   ]
  },
  {
   "cell_type": "markdown",
   "id": "a363c08c",
   "metadata": {
    "papermill": {
     "duration": 0.068518,
     "end_time": "2022-01-23T09:36:39.920861",
     "exception": false,
     "start_time": "2022-01-23T09:36:39.852343",
     "status": "completed"
    },
    "tags": []
   },
   "source": [
    "# **7. Joining Numpy Arrays**\n",
    "There are two ways to join the numpy arrays :<br> \n",
    "a) Using concatenate() function<br>\n",
    "b) Using stack() functions"
   ]
  },
  {
   "cell_type": "markdown",
   "id": "77cce4a6",
   "metadata": {
    "papermill": {
     "duration": 0.069277,
     "end_time": "2022-01-23T09:36:40.059079",
     "exception": false,
     "start_time": "2022-01-23T09:36:39.989802",
     "status": "completed"
    },
    "tags": []
   },
   "source": [
    "### **Using concatenate()**"
   ]
  },
  {
   "cell_type": "code",
   "execution_count": 38,
   "id": "39383c9a",
   "metadata": {
    "execution": {
     "iopub.execute_input": "2022-01-23T09:36:40.204686Z",
     "iopub.status.busy": "2022-01-23T09:36:40.203959Z",
     "iopub.status.idle": "2022-01-23T09:36:40.206977Z",
     "shell.execute_reply": "2022-01-23T09:36:40.207700Z",
     "shell.execute_reply.started": "2022-01-23T09:10:13.049378Z"
    },
    "papermill": {
     "duration": 0.078836,
     "end_time": "2022-01-23T09:36:40.207962",
     "exception": false,
     "start_time": "2022-01-23T09:36:40.129126",
     "status": "completed"
    },
    "tags": []
   },
   "outputs": [
    {
     "name": "stdout",
     "output_type": "stream",
     "text": [
      "[1 2 3 4 5 6]\n"
     ]
    }
   ],
   "source": [
    "#joining two 1D arrays \n",
    "arr1 = np.array([1, 2, 3])\n",
    "arr2 = np.array([4, 5, 6])\n",
    "arr = np.concatenate((arr1, arr2))\n",
    "print(arr)"
   ]
  },
  {
   "cell_type": "code",
   "execution_count": 39,
   "id": "b013d948",
   "metadata": {
    "execution": {
     "iopub.execute_input": "2022-01-23T09:36:40.350358Z",
     "iopub.status.busy": "2022-01-23T09:36:40.349656Z",
     "iopub.status.idle": "2022-01-23T09:36:40.355060Z",
     "shell.execute_reply": "2022-01-23T09:36:40.355725Z",
     "shell.execute_reply.started": "2022-01-23T09:10:13.062991Z"
    },
    "papermill": {
     "duration": 0.078229,
     "end_time": "2022-01-23T09:36:40.355987",
     "exception": false,
     "start_time": "2022-01-23T09:36:40.277758",
     "status": "completed"
    },
    "tags": []
   },
   "outputs": [
    {
     "name": "stdout",
     "output_type": "stream",
     "text": [
      "[[1 4]\n",
      " [2 5]\n",
      " [3 6]]\n"
     ]
    }
   ],
   "source": [
    "#If we change the argument 'axis' to 1 in the concatenate function, then the arrays will be concatenated row wise \n",
    "arr1 = np.array([[1],[ 2],[ 3]])\n",
    "arr2 = np.array([[4], [5], [6]])\n",
    "arr = np.concatenate((arr1, arr2),axis=1)\n",
    "print(arr)"
   ]
  },
  {
   "cell_type": "code",
   "execution_count": 40,
   "id": "2e459be9",
   "metadata": {
    "execution": {
     "iopub.execute_input": "2022-01-23T09:36:40.500068Z",
     "iopub.status.busy": "2022-01-23T09:36:40.499409Z",
     "iopub.status.idle": "2022-01-23T09:36:40.507262Z",
     "shell.execute_reply": "2022-01-23T09:36:40.506578Z",
     "shell.execute_reply.started": "2022-01-23T09:10:13.073957Z"
    },
    "papermill": {
     "duration": 0.080031,
     "end_time": "2022-01-23T09:36:40.507421",
     "exception": false,
     "start_time": "2022-01-23T09:36:40.427390",
     "status": "completed"
    },
    "tags": []
   },
   "outputs": [
    {
     "name": "stdout",
     "output_type": "stream",
     "text": [
      "[[ 1  2  3]\n",
      " [ 7  8  9]\n",
      " [ 4  5  6]\n",
      " [10 11 12]]\n"
     ]
    }
   ],
   "source": [
    "#joining two 2D arrays \n",
    "arr1 = np.array([[1, 2, 3],[7,8,9]])\n",
    "arr2 = np.array([[4, 5, 6],[10,11,12]])\n",
    "arr = np.concatenate((arr1, arr2))\n",
    "print(arr)"
   ]
  },
  {
   "cell_type": "code",
   "execution_count": 41,
   "id": "7e9a9d9f",
   "metadata": {
    "execution": {
     "iopub.execute_input": "2022-01-23T09:36:40.655501Z",
     "iopub.status.busy": "2022-01-23T09:36:40.654699Z",
     "iopub.status.idle": "2022-01-23T09:36:40.657921Z",
     "shell.execute_reply": "2022-01-23T09:36:40.658476Z",
     "shell.execute_reply.started": "2022-01-23T09:10:13.085571Z"
    },
    "papermill": {
     "duration": 0.080613,
     "end_time": "2022-01-23T09:36:40.658678",
     "exception": false,
     "start_time": "2022-01-23T09:36:40.578065",
     "status": "completed"
    },
    "tags": []
   },
   "outputs": [
    {
     "name": "stdout",
     "output_type": "stream",
     "text": [
      "[[ 1  4  5  6]\n",
      " [ 2  7  8  9]\n",
      " [ 3 10 11 12]]\n"
     ]
    }
   ],
   "source": [
    "#joining two arrays with different dimensions \n",
    "arr1 = np.array([1, 2, 3])\n",
    "arr2 = np.array([[4, 5, 6],[7,8,9],[10,11,12]])\n",
    "# arr = np.concatenate((arr1, arr2))   #contenate function cannot join two arrays with different dimension\n",
    "#we can use column_stack function for completing this task\n",
    "arr = np.column_stack((arr1,arr2))\n",
    "print(arr)"
   ]
  },
  {
   "cell_type": "markdown",
   "id": "7d7a581f",
   "metadata": {
    "papermill": {
     "duration": 0.069976,
     "end_time": "2022-01-23T09:36:40.799839",
     "exception": false,
     "start_time": "2022-01-23T09:36:40.729863",
     "status": "completed"
    },
    "tags": []
   },
   "source": [
    "### **Using stack() function**"
   ]
  },
  {
   "cell_type": "code",
   "execution_count": 42,
   "id": "cf11336a",
   "metadata": {
    "execution": {
     "iopub.execute_input": "2022-01-23T09:36:40.959353Z",
     "iopub.status.busy": "2022-01-23T09:36:40.958433Z",
     "iopub.status.idle": "2022-01-23T09:36:40.961318Z",
     "shell.execute_reply": "2022-01-23T09:36:40.962122Z",
     "shell.execute_reply.started": "2022-01-23T09:10:13.098163Z"
    },
    "papermill": {
     "duration": 0.090442,
     "end_time": "2022-01-23T09:36:40.962432",
     "exception": false,
     "start_time": "2022-01-23T09:36:40.871990",
     "status": "completed"
    },
    "tags": []
   },
   "outputs": [
    {
     "name": "stdout",
     "output_type": "stream",
     "text": [
      "[[1 2 3]\n",
      " [4 5 6]]\n"
     ]
    }
   ],
   "source": [
    "arr1 = np.array([1, 2, 3])\n",
    "arr2 = np.array([4, 5, 6])\n",
    "arr = np.stack((arr1, arr2), axis=0)\n",
    "print(arr)"
   ]
  },
  {
   "cell_type": "code",
   "execution_count": 43,
   "id": "75caa0fb",
   "metadata": {
    "execution": {
     "iopub.execute_input": "2022-01-23T09:36:41.127738Z",
     "iopub.status.busy": "2022-01-23T09:36:41.127001Z",
     "iopub.status.idle": "2022-01-23T09:36:41.135657Z",
     "shell.execute_reply": "2022-01-23T09:36:41.135003Z",
     "shell.execute_reply.started": "2022-01-23T09:10:13.113805Z"
    },
    "papermill": {
     "duration": 0.086302,
     "end_time": "2022-01-23T09:36:41.135873",
     "exception": false,
     "start_time": "2022-01-23T09:36:41.049571",
     "status": "completed"
    },
    "tags": []
   },
   "outputs": [
    {
     "name": "stdout",
     "output_type": "stream",
     "text": [
      "[[1 4]\n",
      " [2 5]\n",
      " [3 6]]\n"
     ]
    }
   ],
   "source": [
    "#when axis = 1 \n",
    "arr1 = np.array([1, 2, 3])\n",
    "arr2 = np.array([4, 5, 6])\n",
    "arr = np.stack((arr1, arr2), axis=1)\n",
    "print(arr)"
   ]
  },
  {
   "cell_type": "markdown",
   "id": "cdc41f22",
   "metadata": {
    "papermill": {
     "duration": 0.078058,
     "end_time": "2022-01-23T09:36:41.293459",
     "exception": false,
     "start_time": "2022-01-23T09:36:41.215401",
     "status": "completed"
    },
    "tags": []
   },
   "source": [
    "There are three more stack functions : <br>\n",
    "a) hstack() : It stacks along rows<br>\n",
    "b) vstack() : It stacks along columns<br>\n",
    "c) dstack() : It stacks along height (depth)"
   ]
  },
  {
   "cell_type": "code",
   "execution_count": 44,
   "id": "38c65421",
   "metadata": {
    "execution": {
     "iopub.execute_input": "2022-01-23T09:36:41.451682Z",
     "iopub.status.busy": "2022-01-23T09:36:41.448519Z",
     "iopub.status.idle": "2022-01-23T09:36:41.458977Z",
     "shell.execute_reply": "2022-01-23T09:36:41.459842Z",
     "shell.execute_reply.started": "2022-01-23T09:10:13.129149Z"
    },
    "papermill": {
     "duration": 0.095476,
     "end_time": "2022-01-23T09:36:41.460124",
     "exception": false,
     "start_time": "2022-01-23T09:36:41.364648",
     "status": "completed"
    },
    "tags": []
   },
   "outputs": [
    {
     "name": "stdout",
     "output_type": "stream",
     "text": [
      "[1 2 3 4 5 6]\n"
     ]
    }
   ],
   "source": [
    "#hstack()\n",
    "arr1 = np.array([1, 2, 3])\n",
    "arr2 = np.array([4, 5, 6])\n",
    "arr = np.hstack((arr1, arr2))\n",
    "print(arr)"
   ]
  },
  {
   "cell_type": "code",
   "execution_count": 45,
   "id": "43e28a82",
   "metadata": {
    "execution": {
     "iopub.execute_input": "2022-01-23T09:36:41.650900Z",
     "iopub.status.busy": "2022-01-23T09:36:41.649094Z",
     "iopub.status.idle": "2022-01-23T09:36:41.658936Z",
     "shell.execute_reply": "2022-01-23T09:36:41.659620Z",
     "shell.execute_reply.started": "2022-01-23T09:10:13.142992Z"
    },
    "papermill": {
     "duration": 0.09066,
     "end_time": "2022-01-23T09:36:41.659827",
     "exception": false,
     "start_time": "2022-01-23T09:36:41.569167",
     "status": "completed"
    },
    "tags": []
   },
   "outputs": [
    {
     "name": "stdout",
     "output_type": "stream",
     "text": [
      "[[1 2 3]\n",
      " [4 5 6]]\n"
     ]
    }
   ],
   "source": [
    "#vstack()\n",
    "arr1 = np.array([1, 2, 3])\n",
    "arr2 = np.array([4, 5, 6])\n",
    "arr = np.vstack((arr1, arr2))\n",
    "print(arr)"
   ]
  },
  {
   "cell_type": "code",
   "execution_count": 46,
   "id": "abbc7da8",
   "metadata": {
    "execution": {
     "iopub.execute_input": "2022-01-23T09:36:41.817151Z",
     "iopub.status.busy": "2022-01-23T09:36:41.816155Z",
     "iopub.status.idle": "2022-01-23T09:36:41.819512Z",
     "shell.execute_reply": "2022-01-23T09:36:41.820034Z",
     "shell.execute_reply.started": "2022-01-23T09:10:13.15327Z"
    },
    "papermill": {
     "duration": 0.084576,
     "end_time": "2022-01-23T09:36:41.820262",
     "exception": false,
     "start_time": "2022-01-23T09:36:41.735686",
     "status": "completed"
    },
    "tags": []
   },
   "outputs": [
    {
     "name": "stdout",
     "output_type": "stream",
     "text": [
      "[[[1 4]\n",
      "  [2 5]\n",
      "  [3 6]]]\n"
     ]
    }
   ],
   "source": [
    "#dstack()\n",
    "arr1 = np.array([1, 2, 3])\n",
    "arr2 = np.array([4, 5, 6])\n",
    "arr = np.dstack((arr1, arr2))\n",
    "print(arr)"
   ]
  },
  {
   "cell_type": "markdown",
   "id": "130f1da8",
   "metadata": {
    "papermill": {
     "duration": 0.074248,
     "end_time": "2022-01-23T09:36:41.969318",
     "exception": false,
     "start_time": "2022-01-23T09:36:41.895070",
     "status": "completed"
    },
    "tags": []
   },
   "source": [
    "# **8. Splitting Numpy Arrays**\n",
    "Splitting : breaking an array into multiple arrays.<br>\n",
    "We use the array_split() function. \n",
    "<br>It takes two arguments : <br>\n",
    "a) the array which has to be split<br>\n",
    "b) the number of splits"
   ]
  },
  {
   "cell_type": "code",
   "execution_count": 47,
   "id": "1e6704ae",
   "metadata": {
    "execution": {
     "iopub.execute_input": "2022-01-23T09:36:42.122004Z",
     "iopub.status.busy": "2022-01-23T09:36:42.121200Z",
     "iopub.status.idle": "2022-01-23T09:36:42.126860Z",
     "shell.execute_reply": "2022-01-23T09:36:42.127881Z",
     "shell.execute_reply.started": "2022-01-23T09:10:13.165698Z"
    },
    "papermill": {
     "duration": 0.085885,
     "end_time": "2022-01-23T09:36:42.128261",
     "exception": false,
     "start_time": "2022-01-23T09:36:42.042376",
     "status": "completed"
    },
    "tags": []
   },
   "outputs": [
    {
     "name": "stdout",
     "output_type": "stream",
     "text": [
      "[array([1, 2]), array([3, 4]), array([5, 6])]\n"
     ]
    }
   ],
   "source": [
    "#Splitting 1D array into 3\n",
    "arr = np.array([1,2,3,4,5,6])\n",
    "arr = np.array_split(arr,3)\n",
    "print(arr)"
   ]
  },
  {
   "cell_type": "code",
   "execution_count": 48,
   "id": "16a81ec5",
   "metadata": {
    "execution": {
     "iopub.execute_input": "2022-01-23T09:36:42.282496Z",
     "iopub.status.busy": "2022-01-23T09:36:42.281740Z",
     "iopub.status.idle": "2022-01-23T09:36:42.284547Z",
     "shell.execute_reply": "2022-01-23T09:36:42.285179Z",
     "shell.execute_reply.started": "2022-01-23T09:10:13.177486Z"
    },
    "papermill": {
     "duration": 0.081476,
     "end_time": "2022-01-23T09:36:42.285422",
     "exception": false,
     "start_time": "2022-01-23T09:36:42.203946",
     "status": "completed"
    },
    "tags": []
   },
   "outputs": [
    {
     "name": "stdout",
     "output_type": "stream",
     "text": [
      "[array([[1, 2, 3, 4, 5]]), array([[ 6,  7,  8,  9, 10]]), array([], shape=(0, 5), dtype=int64)]\n"
     ]
    }
   ],
   "source": [
    "#Splittig 2d array \n",
    "arr = np.array([[1,2,3,4,5],[6,7,8,9,10]])\n",
    "arr = np.array_split(arr,3)\n",
    "print(arr)"
   ]
  },
  {
   "cell_type": "code",
   "execution_count": 49,
   "id": "0991cde0",
   "metadata": {
    "execution": {
     "iopub.execute_input": "2022-01-23T09:36:42.437398Z",
     "iopub.status.busy": "2022-01-23T09:36:42.434225Z",
     "iopub.status.idle": "2022-01-23T09:36:42.441506Z",
     "shell.execute_reply": "2022-01-23T09:36:42.441989Z",
     "shell.execute_reply.started": "2022-01-23T09:10:13.191698Z"
    },
    "papermill": {
     "duration": 0.084012,
     "end_time": "2022-01-23T09:36:42.442196",
     "exception": false,
     "start_time": "2022-01-23T09:36:42.358184",
     "status": "completed"
    },
    "tags": []
   },
   "outputs": [
    {
     "name": "stdout",
     "output_type": "stream",
     "text": [
      "[array([[1, 2],\n",
      "       [6, 7]]), array([[3, 4],\n",
      "       [8, 9]]), array([[ 5],\n",
      "       [10]])]\n"
     ]
    }
   ],
   "source": [
    "#Splitting along rows\n",
    "#For achieveing this, set axis=1 in array_split() function\n",
    "arr = np.array([[1,2,3,4,5],[6,7,8,9,10]])\n",
    "arr = np.array_split(arr,3,axis=1)\n",
    "print(arr)"
   ]
  },
  {
   "cell_type": "markdown",
   "id": "acb6bc01",
   "metadata": {
    "papermill": {
     "duration": 0.072318,
     "end_time": "2022-01-23T09:36:42.591699",
     "exception": false,
     "start_time": "2022-01-23T09:36:42.519381",
     "status": "completed"
    },
    "tags": []
   },
   "source": [
    "# **9. Searching elements in Numpy Arrays**\n",
    "There are two ways to perform serach operation in numpy arrays : <br>\n",
    "a) Using where() func.<br>\n",
    "b) Using searchsorted() func."
   ]
  },
  {
   "cell_type": "markdown",
   "id": "ae3103e7",
   "metadata": {
    "papermill": {
     "duration": 0.072482,
     "end_time": "2022-01-23T09:36:42.736477",
     "exception": false,
     "start_time": "2022-01-23T09:36:42.663995",
     "status": "completed"
    },
    "tags": []
   },
   "source": [
    "### **Using where()**"
   ]
  },
  {
   "cell_type": "code",
   "execution_count": 50,
   "id": "5959cfd7",
   "metadata": {
    "execution": {
     "iopub.execute_input": "2022-01-23T09:36:42.883758Z",
     "iopub.status.busy": "2022-01-23T09:36:42.883105Z",
     "iopub.status.idle": "2022-01-23T09:36:42.889191Z",
     "shell.execute_reply": "2022-01-23T09:36:42.889836Z",
     "shell.execute_reply.started": "2022-01-23T09:10:13.204135Z"
    },
    "papermill": {
     "duration": 0.081431,
     "end_time": "2022-01-23T09:36:42.890014",
     "exception": false,
     "start_time": "2022-01-23T09:36:42.808583",
     "status": "completed"
    },
    "tags": []
   },
   "outputs": [
    {
     "name": "stdout",
     "output_type": "stream",
     "text": [
      "(array([1, 4, 5]),)\n"
     ]
    }
   ],
   "source": [
    "#where() function returns all the index values where the element is found\n",
    "arr = np.array([11,12,13,14,12,12,15,16])\n",
    "x = np.where(arr == 12)\n",
    "print(x)"
   ]
  },
  {
   "cell_type": "code",
   "execution_count": 51,
   "id": "e883ebbc",
   "metadata": {
    "execution": {
     "iopub.execute_input": "2022-01-23T09:36:43.038003Z",
     "iopub.status.busy": "2022-01-23T09:36:43.037351Z",
     "iopub.status.idle": "2022-01-23T09:36:43.044368Z",
     "shell.execute_reply": "2022-01-23T09:36:43.045332Z",
     "shell.execute_reply.started": "2022-01-23T09:10:13.214497Z"
    },
    "papermill": {
     "duration": 0.083499,
     "end_time": "2022-01-23T09:36:43.045636",
     "exception": false,
     "start_time": "2022-01-23T09:36:42.962137",
     "status": "completed"
    },
    "tags": []
   },
   "outputs": [
    {
     "name": "stdout",
     "output_type": "stream",
     "text": [
      "(array([], dtype=int64),)\n"
     ]
    }
   ],
   "source": [
    "#what if element is not found ? \n",
    "arr = np.array([11,12,13,14,12,12,15,16])\n",
    "x = np.where(arr == 100)\n",
    "print(x)\n",
    "\n",
    "#an empty list is returned when the element is not found"
   ]
  },
  {
   "cell_type": "markdown",
   "id": "b2b780f4",
   "metadata": {
    "papermill": {
     "duration": 0.073494,
     "end_time": "2022-01-23T09:36:43.193460",
     "exception": false,
     "start_time": "2022-01-23T09:36:43.119966",
     "status": "completed"
    },
    "tags": []
   },
   "source": [
    "### **Using searchsorted()**\n",
    "searchsorted() : It performs binary search in the array, and returns the index where the element is found. <br>\n",
    "Note : searchsorted() works on sorted arrays"
   ]
  },
  {
   "cell_type": "code",
   "execution_count": 52,
   "id": "a9dacc73",
   "metadata": {
    "execution": {
     "iopub.execute_input": "2022-01-23T09:36:43.342799Z",
     "iopub.status.busy": "2022-01-23T09:36:43.342137Z",
     "iopub.status.idle": "2022-01-23T09:36:43.348197Z",
     "shell.execute_reply": "2022-01-23T09:36:43.349197Z",
     "shell.execute_reply.started": "2022-01-23T09:10:13.227051Z"
    },
    "papermill": {
     "duration": 0.083098,
     "end_time": "2022-01-23T09:36:43.349517",
     "exception": false,
     "start_time": "2022-01-23T09:36:43.266419",
     "status": "completed"
    },
    "tags": []
   },
   "outputs": [
    {
     "name": "stdout",
     "output_type": "stream",
     "text": [
      "1\n"
     ]
    }
   ],
   "source": [
    "arr = np.array([6, 7, 7, 7, 8, 9])\n",
    "x = np.searchsorted(arr, 7)\n",
    "print(x)"
   ]
  },
  {
   "cell_type": "code",
   "execution_count": 53,
   "id": "d190e24c",
   "metadata": {
    "execution": {
     "iopub.execute_input": "2022-01-23T09:36:43.500930Z",
     "iopub.status.busy": "2022-01-23T09:36:43.500302Z",
     "iopub.status.idle": "2022-01-23T09:36:43.506960Z",
     "shell.execute_reply": "2022-01-23T09:36:43.507723Z",
     "shell.execute_reply.started": "2022-01-23T09:10:13.239229Z"
    },
    "papermill": {
     "duration": 0.083966,
     "end_time": "2022-01-23T09:36:43.507956",
     "exception": false,
     "start_time": "2022-01-23T09:36:43.423990",
     "status": "completed"
    },
    "tags": []
   },
   "outputs": [
    {
     "name": "stdout",
     "output_type": "stream",
     "text": [
      "4\n"
     ]
    }
   ],
   "source": [
    "#if we want to search element from the right side, then we can set the side='right' inside the searchsorted() function\n",
    "arr = np.array([6, 7, 7, 7, 8, 9])\n",
    "x = np.searchsorted(arr, 7, side='right')\n",
    "print(x)"
   ]
  },
  {
   "cell_type": "markdown",
   "id": "fe905769",
   "metadata": {
    "papermill": {
     "duration": 0.072883,
     "end_time": "2022-01-23T09:36:43.654950",
     "exception": false,
     "start_time": "2022-01-23T09:36:43.582067",
     "status": "completed"
    },
    "tags": []
   },
   "source": [
    "# **10. Sorting in Numpy Arrays**\n",
    "Sorting means putting elements in an ordered sequence.<br>\n",
    "Ordered sequence is any sequence that has an order corresponding to elements, like numeric or alphabetical, ascending or descending.\n",
    "\n",
    "Numpy array has a function sort() which sorts the specified array. "
   ]
  },
  {
   "cell_type": "code",
   "execution_count": 54,
   "id": "f232e1fd",
   "metadata": {
    "execution": {
     "iopub.execute_input": "2022-01-23T09:36:43.809478Z",
     "iopub.status.busy": "2022-01-23T09:36:43.806928Z",
     "iopub.status.idle": "2022-01-23T09:36:43.814412Z",
     "shell.execute_reply": "2022-01-23T09:36:43.815246Z",
     "shell.execute_reply.started": "2022-01-23T09:10:13.253182Z"
    },
    "papermill": {
     "duration": 0.08577,
     "end_time": "2022-01-23T09:36:43.815466",
     "exception": false,
     "start_time": "2022-01-23T09:36:43.729696",
     "status": "completed"
    },
    "tags": []
   },
   "outputs": [
    {
     "name": "stdout",
     "output_type": "stream",
     "text": [
      "[4 3 2 5 6 1 8]\n",
      "Array after sorting : \n",
      "[1 2 3 4 5 6 8]\n"
     ]
    }
   ],
   "source": [
    "#Sorting a 1D array : It sorts all the sub arrays\n",
    "arr = np.array([4,3,2,5,6,1,8])\n",
    "print(arr)\n",
    "print(\"Array after sorting : \")\n",
    "arr = np.sort(arr)\n",
    "print(arr)"
   ]
  },
  {
   "cell_type": "code",
   "execution_count": 55,
   "id": "014b59c9",
   "metadata": {
    "execution": {
     "iopub.execute_input": "2022-01-23T09:36:43.972488Z",
     "iopub.status.busy": "2022-01-23T09:36:43.971803Z",
     "iopub.status.idle": "2022-01-23T09:36:43.975366Z",
     "shell.execute_reply": "2022-01-23T09:36:43.974693Z",
     "shell.execute_reply.started": "2022-01-23T09:10:13.268515Z"
    },
    "papermill": {
     "duration": 0.085679,
     "end_time": "2022-01-23T09:36:43.975509",
     "exception": false,
     "start_time": "2022-01-23T09:36:43.889830",
     "status": "completed"
    },
    "tags": []
   },
   "outputs": [
    {
     "name": "stdout",
     "output_type": "stream",
     "text": [
      "[[4 3 2 1]\n",
      " [6 5 4 3]]\n",
      "Array after sorting : \n",
      "[[1 2 3 4]\n",
      " [3 4 5 6]]\n"
     ]
    }
   ],
   "source": [
    "#sorting a 2D array \n",
    "arr = np.array([[4,3,2,1],[6,5,4,3]])\n",
    "print(arr)\n",
    "print(\"Array after sorting : \")\n",
    "arr = np.sort(arr)\n",
    "print(arr)\n"
   ]
  },
  {
   "cell_type": "code",
   "execution_count": 56,
   "id": "0ca6e916",
   "metadata": {
    "execution": {
     "iopub.execute_input": "2022-01-23T09:36:44.128529Z",
     "iopub.status.busy": "2022-01-23T09:36:44.127894Z",
     "iopub.status.idle": "2022-01-23T09:36:44.134410Z",
     "shell.execute_reply": "2022-01-23T09:36:44.134949Z",
     "shell.execute_reply.started": "2022-01-23T09:10:13.282167Z"
    },
    "papermill": {
     "duration": 0.084606,
     "end_time": "2022-01-23T09:36:44.135117",
     "exception": false,
     "start_time": "2022-01-23T09:36:44.050511",
     "status": "completed"
    },
    "tags": []
   },
   "outputs": [
    {
     "name": "stdout",
     "output_type": "stream",
     "text": [
      "[[4 3 2 1]\n",
      " [6 5 4 3]]\n",
      "Array after sorting : \n",
      "[[4 3 2 1]\n",
      " [6 5 4 3]]\n"
     ]
    }
   ],
   "source": [
    "#sorting in descending order : set axis=0 \n",
    "arr = np.array([[4,3,2,1],[6,5,4,3]])\n",
    "print(arr)\n",
    "print(\"Array after sorting : \")\n",
    "arr = np.sort(arr,axis=0)\n",
    "print(arr)"
   ]
  }
 ],
 "metadata": {
  "kernelspec": {
   "display_name": "Python 3",
   "language": "python",
   "name": "python3"
  },
  "language_info": {
   "codemirror_mode": {
    "name": "ipython",
    "version": 3
   },
   "file_extension": ".py",
   "mimetype": "text/x-python",
   "name": "python",
   "nbconvert_exporter": "python",
   "pygments_lexer": "ipython3",
   "version": "3.7.12"
  },
  "papermill": {
   "default_parameters": {},
   "duration": 23.289179,
   "end_time": "2022-01-23T09:36:45.022019",
   "environment_variables": {},
   "exception": null,
   "input_path": "__notebook__.ipynb",
   "output_path": "__notebook__.ipynb",
   "parameters": {},
   "start_time": "2022-01-23T09:36:21.732840",
   "version": "2.3.3"
  }
 },
 "nbformat": 4,
 "nbformat_minor": 5
}
