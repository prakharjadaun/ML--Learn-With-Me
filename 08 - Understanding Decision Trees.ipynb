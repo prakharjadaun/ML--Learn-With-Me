{
 "cells": [
  {
   "cell_type": "markdown",
   "metadata": {},
   "source": [
    "## **Introduction**\n",
    "\n",
    "- Decision trees is a concept which summarizes the information contained in training dataset in form of a tree structure. \n",
    "- It is a supervised predictive learning model.\n",
    "- It can be used to classify both categorical (classification) as well as continuous valued (regression) target variables.\n",
    "- One of the many qualities of Decision trees is that they require very little data preparation. In fact, they don't require feature scaling or centering at all."
   ]
  },
  {
   "cell_type": "code",
   "execution_count": null,
   "metadata": {},
   "outputs": [],
   "source": []
  }
 ],
 "metadata": {
  "language_info": {
   "name": "python"
  },
  "orig_nbformat": 4
 },
 "nbformat": 4,
 "nbformat_minor": 2
}
