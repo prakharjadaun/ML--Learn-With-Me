{
 "cells": [
  {
   "cell_type": "markdown",
   "metadata": {},
   "source": [
    "## **Missing Data**"
   ]
  },
  {
   "cell_type": "markdown",
   "metadata": {},
   "source": [
    "Today we will learn about the \n",
    "- Missing data\n",
    "- How do they get generated?\n",
    "- How to represent them?\n",
    "- How to handle them?\n",
    "\n",
    "So, let's code !"
   ]
  },
  {
   "cell_type": "markdown",
   "metadata": {},
   "source": [
    "NaN,nan and NAN represents the missing values in Python. Also, note that they all are equivalent to each other."
   ]
  },
  {
   "cell_type": "code",
   "execution_count": 1,
   "metadata": {},
   "outputs": [],
   "source": [
    "# this is how we can import them\n",
    "from numpy import NaN,nan,NAN"
   ]
  },
  {
   "cell_type": "markdown",
   "metadata": {},
   "source": [
    "Few points that you should always remember using the NaN are :\n",
    "- Missing values are different than other types of data, in that they don't really equal anything.\n",
    "- The data is missing so there is no concept of equality.\n",
    "- NaN is not be equivalent to 0 or an empty string, ' '."
   ]
  },
  {
   "cell_type": "code",
   "execution_count": 3,
   "metadata": {},
   "outputs": [
    {
     "name": "stdout",
     "output_type": "stream",
     "text": [
      "NaN == True :  False\n",
      "NaN == False :  False\n",
      "NaN == 0 :  False\n",
      "NaN == ' ' :  False\n"
     ]
    }
   ],
   "source": [
    "# Let's test for equality \n",
    "print(\"NaN == True : \",NaN==True)\n",
    "print(\"NaN == False : \",NaN==False)\n",
    "print(\"NaN == 0 : \",NaN==0)\n",
    "print(\"NaN == ' ' : \",NaN==' ')"
   ]
  },
  {
   "cell_type": "markdown",
   "metadata": {},
   "source": [
    "We can conclude that they don't really equal to any type of data"
   ]
  },
  {
   "cell_type": "code",
   "execution_count": 4,
   "metadata": {},
   "outputs": [
    {
     "name": "stdout",
     "output_type": "stream",
     "text": [
      "NaN == NaN :  False\n",
      "NaN == nan :  False\n",
      "NaN == NAN :  False\n",
      "NAN == nan :  False\n"
     ]
    }
   ],
   "source": [
    "# Also, missing values are also not equal to other missing values\n",
    "print(\"NaN == NaN : \",NaN==NaN)\n",
    "print(\"NaN == nan : \",NaN==nan)\n",
    "print(\"NaN == NAN : \",NaN==NAN)\n",
    "print(\"NAN == nan : \",NAN==nan)"
   ]
  },
  {
   "cell_type": "code",
   "execution_count": null,
   "metadata": {},
   "outputs": [],
   "source": []
  }
 ],
 "metadata": {
  "kernelspec": {
   "display_name": "Python 3.9.1 64-bit",
   "language": "python",
   "name": "python3"
  },
  "language_info": {
   "codemirror_mode": {
    "name": "ipython",
    "version": 3
   },
   "file_extension": ".py",
   "mimetype": "text/x-python",
   "name": "python",
   "nbconvert_exporter": "python",
   "pygments_lexer": "ipython3",
   "version": "3.9.1"
  },
  "orig_nbformat": 4,
  "vscode": {
   "interpreter": {
    "hash": "b14d9e9f5e40da09a473c2902f3de164e0e2e0ee3890fe6368f6ed4b7113d70e"
   }
  }
 },
 "nbformat": 4,
 "nbformat_minor": 2
}
