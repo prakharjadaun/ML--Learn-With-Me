{
 "cells": [
  {
   "cell_type": "markdown",
   "id": "8bb6d42b",
   "metadata": {
    "papermill": {
     "duration": 0.006999,
     "end_time": "2024-03-12T10:45:16.581175",
     "exception": false,
     "start_time": "2024-03-12T10:45:16.574176",
     "status": "completed"
    },
    "tags": []
   },
   "source": [
    "## **Decorators**"
   ]
  },
  {
   "cell_type": "markdown",
   "id": "c6224aa5",
   "metadata": {
    "papermill": {
     "duration": 0.005789,
     "end_time": "2024-03-12T10:45:16.593581",
     "exception": false,
     "start_time": "2024-03-12T10:45:16.587792",
     "status": "completed"
    },
    "tags": []
   },
   "source": [
    "* Decorators in Python are a powerful feature that allows you to modify the behavior of functions or methods. \n",
    "* They are essentially functions that wrap around other functions, allowing you to add functionality to the existing functions.\n",
    "\n",
    "To start with decorators, lets define a function which we want to add additional functionality to it."
   ]
  },
  {
   "cell_type": "code",
   "execution_count": 1,
   "id": "4875f2b6",
   "metadata": {
    "_cell_guid": "b1076dfc-b9ad-4769-8c92-a6c4dae69d19",
    "_uuid": "8f2839f25d086af736a60e9eeb907d3b93b6e0e5",
    "execution": {
     "iopub.execute_input": "2024-03-12T10:45:16.607803Z",
     "iopub.status.busy": "2024-03-12T10:45:16.607280Z",
     "iopub.status.idle": "2024-03-12T10:45:16.622048Z",
     "shell.execute_reply": "2024-03-12T10:45:16.620846Z"
    },
    "papermill": {
     "duration": 0.025237,
     "end_time": "2024-03-12T10:45:16.624885",
     "exception": false,
     "start_time": "2024-03-12T10:45:16.599648",
     "status": "completed"
    },
    "tags": []
   },
   "outputs": [],
   "source": [
    "# function to sum two numbers\n",
    "def sum(a,b):\n",
    "    return a+b\n",
    "\n",
    "# we have defined a simple function to perform addition between two operands"
   ]
  },
  {
   "cell_type": "code",
   "execution_count": 2,
   "id": "4fb5a2b5",
   "metadata": {
    "execution": {
     "iopub.execute_input": "2024-03-12T10:45:16.639574Z",
     "iopub.status.busy": "2024-03-12T10:45:16.639066Z",
     "iopub.status.idle": "2024-03-12T10:45:16.646634Z",
     "shell.execute_reply": "2024-03-12T10:45:16.644905Z"
    },
    "papermill": {
     "duration": 0.018488,
     "end_time": "2024-03-12T10:45:16.649855",
     "exception": false,
     "start_time": "2024-03-12T10:45:16.631367",
     "status": "completed"
    },
    "tags": []
   },
   "outputs": [
    {
     "name": "stdout",
     "output_type": "stream",
     "text": [
      "6\n",
      "-2\n"
     ]
    }
   ],
   "source": [
    "# calling the function\n",
    "print(sum(2,4))\n",
    "print(sum(-4,2))"
   ]
  },
  {
   "cell_type": "markdown",
   "id": "40af9ad0",
   "metadata": {
    "papermill": {
     "duration": 0.005968,
     "end_time": "2024-03-12T10:45:16.662341",
     "exception": false,
     "start_time": "2024-03-12T10:45:16.656373",
     "status": "completed"
    },
    "tags": []
   },
   "source": [
    "**Wow! code works well in the single run.**\n",
    "\n",
    "Let's add a constraint that a and b should always be positive and you cannot modify the function **sum**.\n",
    "\n",
    "That is we have to check whether a or b is negative or not and remove the negation."
   ]
  },
  {
   "cell_type": "markdown",
   "id": "48048f1b",
   "metadata": {
    "papermill": {
     "duration": 0.005895,
     "end_time": "2024-03-12T10:45:16.674495",
     "exception": false,
     "start_time": "2024-03-12T10:45:16.668600",
     "status": "completed"
    },
    "tags": []
   },
   "source": [
    "## **Creating a decorator**"
   ]
  },
  {
   "cell_type": "markdown",
   "id": "a12482db",
   "metadata": {
    "papermill": {
     "duration": 0.006006,
     "end_time": "2024-03-12T10:45:16.686959",
     "exception": false,
     "start_time": "2024-03-12T10:45:16.680953",
     "status": "completed"
    },
    "tags": []
   },
   "source": [
    "\n",
    "\n",
    "To create a decorator, follow these simple steps:\n",
    "\n",
    "1. **Define a decorator function which takes another function as its argument.**\n"
   ]
  },
  {
   "cell_type": "code",
   "execution_count": 3,
   "id": "aed7fc5a",
   "metadata": {
    "execution": {
     "iopub.execute_input": "2024-03-12T10:45:16.702371Z",
     "iopub.status.busy": "2024-03-12T10:45:16.700997Z",
     "iopub.status.idle": "2024-03-12T10:45:16.706893Z",
     "shell.execute_reply": "2024-03-12T10:45:16.705810Z"
    },
    "papermill": {
     "duration": 0.01598,
     "end_time": "2024-03-12T10:45:16.709340",
     "exception": false,
     "start_time": "2024-03-12T10:45:16.693360",
     "status": "completed"
    },
    "tags": []
   },
   "outputs": [],
   "source": [
    "def decorator_name(func):\n",
    "    pass"
   ]
  },
  {
   "cell_type": "markdown",
   "id": "d2ae00e2",
   "metadata": {
    "papermill": {
     "duration": 0.005965,
     "end_time": "2024-03-12T10:45:16.721665",
     "exception": false,
     "start_time": "2024-03-12T10:45:16.715700",
     "status": "completed"
    },
    "tags": []
   },
   "source": [
    "2. **Inside the decorator function, define a nested wrapper function which is used to perform the additional functionality.**"
   ]
  },
  {
   "cell_type": "code",
   "execution_count": 4,
   "id": "cc402669",
   "metadata": {
    "execution": {
     "iopub.execute_input": "2024-03-12T10:45:16.736132Z",
     "iopub.status.busy": "2024-03-12T10:45:16.735627Z",
     "iopub.status.idle": "2024-03-12T10:45:16.741489Z",
     "shell.execute_reply": "2024-03-12T10:45:16.740377Z"
    },
    "papermill": {
     "duration": 0.016089,
     "end_time": "2024-03-12T10:45:16.743989",
     "exception": false,
     "start_time": "2024-03-12T10:45:16.727900",
     "status": "completed"
    },
    "tags": []
   },
   "outputs": [],
   "source": [
    "def decorator_name(func):\n",
    "    \n",
    "    def wrapper_func(): # nested wrapper func\n",
    "        \n",
    "        print(\"Execute additional functionality\")\n",
    "        func() # calling the actual function \n"
   ]
  },
  {
   "cell_type": "markdown",
   "id": "4bd3369e",
   "metadata": {
    "papermill": {
     "duration": 0.005814,
     "end_time": "2024-03-12T10:45:16.756071",
     "exception": false,
     "start_time": "2024-03-12T10:45:16.750257",
     "status": "completed"
    },
    "tags": []
   },
   "source": [
    "3. **Lastly, return the wrapper_func (nested_function) from the decorator.**"
   ]
  },
  {
   "cell_type": "code",
   "execution_count": 5,
   "id": "2fad1766",
   "metadata": {
    "execution": {
     "iopub.execute_input": "2024-03-12T10:45:16.770761Z",
     "iopub.status.busy": "2024-03-12T10:45:16.769960Z",
     "iopub.status.idle": "2024-03-12T10:45:16.776179Z",
     "shell.execute_reply": "2024-03-12T10:45:16.775099Z"
    },
    "papermill": {
     "duration": 0.016214,
     "end_time": "2024-03-12T10:45:16.778524",
     "exception": false,
     "start_time": "2024-03-12T10:45:16.762310",
     "status": "completed"
    },
    "tags": []
   },
   "outputs": [],
   "source": [
    "def decorator_name(func):\n",
    "    \n",
    "    def wrapper_func():\n",
    "        \n",
    "        print(\"Execute additional functionality\")\n",
    "        func()\n",
    "    \n",
    "    return wrapper_func"
   ]
  },
  {
   "cell_type": "markdown",
   "id": "16018b5f",
   "metadata": {
    "papermill": {
     "duration": 0.005899,
     "end_time": "2024-03-12T10:45:16.790723",
     "exception": false,
     "start_time": "2024-03-12T10:45:16.784824",
     "status": "completed"
    },
    "tags": []
   },
   "source": [
    "Let's create a decorator for our **sum** function with functionality that the arguments should always be positive even if negative passed to it."
   ]
  },
  {
   "cell_type": "code",
   "execution_count": 6,
   "id": "8c9aeaf6",
   "metadata": {
    "execution": {
     "iopub.execute_input": "2024-03-12T10:45:16.805117Z",
     "iopub.status.busy": "2024-03-12T10:45:16.804622Z",
     "iopub.status.idle": "2024-03-12T10:45:16.811318Z",
     "shell.execute_reply": "2024-03-12T10:45:16.810085Z"
    },
    "papermill": {
     "duration": 0.017197,
     "end_time": "2024-03-12T10:45:16.814104",
     "exception": false,
     "start_time": "2024-03-12T10:45:16.796907",
     "status": "completed"
    },
    "tags": []
   },
   "outputs": [],
   "source": [
    "def make_positive(func): #decorator accepting a function\n",
    "    \n",
    "    # passing the two arguments to the wrapper function\n",
    "    def wrapper(a,b):\n",
    "        \n",
    "        # getting the absolute value of a and b\n",
    "        a = abs(a)\n",
    "        b = abs(b)\n",
    "        \n",
    "        # returning the func with updated arguments\n",
    "        return func(a,b)\n",
    "    \n",
    "    return wrapper"
   ]
  },
  {
   "cell_type": "code",
   "execution_count": 7,
   "id": "1119630b",
   "metadata": {
    "execution": {
     "iopub.execute_input": "2024-03-12T10:45:16.828973Z",
     "iopub.status.busy": "2024-03-12T10:45:16.828526Z",
     "iopub.status.idle": "2024-03-12T10:45:16.836835Z",
     "shell.execute_reply": "2024-03-12T10:45:16.835658Z"
    },
    "papermill": {
     "duration": 0.018975,
     "end_time": "2024-03-12T10:45:16.839439",
     "exception": false,
     "start_time": "2024-03-12T10:45:16.820464",
     "status": "completed"
    },
    "tags": []
   },
   "outputs": [
    {
     "data": {
      "text/plain": [
       "6"
      ]
     },
     "execution_count": 7,
     "metadata": {},
     "output_type": "execute_result"
    }
   ],
   "source": [
    "# calling the decorator function and passing the sum function\n",
    "add = make_positive(sum)\n",
    "\n",
    "# performing the sum with additional functionlity\n",
    "add(-2,-4)"
   ]
  },
  {
   "cell_type": "markdown",
   "id": "4c9b6e83",
   "metadata": {
    "papermill": {
     "duration": 0.006151,
     "end_time": "2024-03-12T10:45:16.852119",
     "exception": false,
     "start_time": "2024-03-12T10:45:16.845968",
     "status": "completed"
    },
    "tags": []
   },
   "source": [
    "**Let's define another example.**\n",
    "\n",
    "* Define a function called divide to perform a/b\n",
    "* Add a functionality that numerator should always be larger than denominator i.e. we might have to swap if a is smaller than b."
   ]
  },
  {
   "cell_type": "code",
   "execution_count": 8,
   "id": "51f4189e",
   "metadata": {
    "execution": {
     "iopub.execute_input": "2024-03-12T10:45:16.868398Z",
     "iopub.status.busy": "2024-03-12T10:45:16.867914Z",
     "iopub.status.idle": "2024-03-12T10:45:16.874862Z",
     "shell.execute_reply": "2024-03-12T10:45:16.873640Z"
    },
    "papermill": {
     "duration": 0.017747,
     "end_time": "2024-03-12T10:45:16.877466",
     "exception": false,
     "start_time": "2024-03-12T10:45:16.859719",
     "status": "completed"
    },
    "tags": []
   },
   "outputs": [],
   "source": [
    "# definning the decorator first\n",
    "def smart_swap(func):\n",
    "    # here's the nested wrapper function\n",
    "    def wrapper(a,b):\n",
    "        \n",
    "        # swapping if a is smaller\n",
    "        if a<b:\n",
    "            a,b = b,a\n",
    "        # returning the function with updated arguments\n",
    "        return func(a,b)\n",
    "    return wrapper\n",
    "\n",
    "@smart_swap      # syntatic sugar   \n",
    "def divide(a,b):\n",
    "    return a/b"
   ]
  },
  {
   "cell_type": "code",
   "execution_count": 9,
   "id": "d5228820",
   "metadata": {
    "execution": {
     "iopub.execute_input": "2024-03-12T10:45:16.893452Z",
     "iopub.status.busy": "2024-03-12T10:45:16.892942Z",
     "iopub.status.idle": "2024-03-12T10:45:16.898792Z",
     "shell.execute_reply": "2024-03-12T10:45:16.897650Z"
    },
    "papermill": {
     "duration": 0.018176,
     "end_time": "2024-03-12T10:45:16.902298",
     "exception": false,
     "start_time": "2024-03-12T10:45:16.884122",
     "status": "completed"
    },
    "tags": []
   },
   "outputs": [
    {
     "name": "stdout",
     "output_type": "stream",
     "text": [
      "2.0\n",
      "2.0\n"
     ]
    }
   ],
   "source": [
    "print(divide(4,2))\n",
    "print(divide(2,4))"
   ]
  },
  {
   "cell_type": "markdown",
   "id": "0bb383d7",
   "metadata": {
    "papermill": {
     "duration": 0.006402,
     "end_time": "2024-03-12T10:45:16.915544",
     "exception": false,
     "start_time": "2024-03-12T10:45:16.909142",
     "status": "completed"
    },
    "tags": []
   },
   "source": [
    "**Woo hoo!** we have successfully added that functionality.\n",
    "\n",
    "If you are confused about what is **@smart_swap**, then don't worry I got you covered.\n",
    "\n",
    "**@smart_swap is equivalent to** \n",
    "\n",
    "`divide = smart_swap(divide)`\n",
    "\n",
    "I hope you've learnt something new. If any additions or confusions do let me know in the comments."
   ]
  }
 ],
 "metadata": {
  "kaggle": {
   "accelerator": "none",
   "dataSources": [],
   "dockerImageVersionId": 30664,
   "isGpuEnabled": false,
   "isInternetEnabled": true,
   "language": "python",
   "sourceType": "notebook"
  },
  "kernelspec": {
   "display_name": "Python 3",
   "language": "python",
   "name": "python3"
  },
  "language_info": {
   "codemirror_mode": {
    "name": "ipython",
    "version": 3
   },
   "file_extension": ".py",
   "mimetype": "text/x-python",
   "name": "python",
   "nbconvert_exporter": "python",
   "pygments_lexer": "ipython3",
   "version": "3.10.13"
  },
  "papermill": {
   "default_parameters": {},
   "duration": 4.164089,
   "end_time": "2024-03-12T10:45:17.445792",
   "environment_variables": {},
   "exception": null,
   "input_path": "__notebook__.ipynb",
   "output_path": "__notebook__.ipynb",
   "parameters": {},
   "start_time": "2024-03-12T10:45:13.281703",
   "version": "2.5.0"
  }
 },
 "nbformat": 4,
 "nbformat_minor": 5
}
